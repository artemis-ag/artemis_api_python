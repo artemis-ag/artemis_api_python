{
 "cells": [
  {
   "cell_type": "code",
   "execution_count": null,
   "metadata": {},
   "outputs": [],
   "source": [
    "# default_exp tanks"
   ]
  },
  {
   "cell_type": "code",
   "execution_count": null,
   "metadata": {},
   "outputs": [],
   "source": [
    "#hide\n",
    "%load_ext autoreload\n",
    "%autoreload 2"
   ]
  },
  {
   "cell_type": "markdown",
   "metadata": {},
   "source": [
    "# Tanks\n",
    "> Artemis Tanks entity implementation to use the associated tanks API endpoints."
   ]
  },
  {
   "cell_type": "code",
   "execution_count": null,
   "metadata": {},
   "outputs": [],
   "source": [
    "#hide\n",
    "from nbdev.showdoc import *\n",
    "from artemis_api_python.client import *"
   ]
  },
  {
   "cell_type": "code",
   "execution_count": null,
   "metadata": {},
   "outputs": [
    {
     "data": {
      "text/plain": [
       "True"
      ]
     },
     "execution_count": null,
     "metadata": {},
     "output_type": "execute_result"
    }
   ],
   "source": [
    "#hide\n",
    "from dotenv import load_dotenv\n",
    "load_dotenv(dotenv_path='.env')"
   ]
  },
  {
   "cell_type": "code",
   "execution_count": null,
   "metadata": {},
   "outputs": [],
   "source": [
    "#export\n",
    "import json"
   ]
  },
  {
   "cell_type": "code",
   "execution_count": null,
   "metadata": {},
   "outputs": [],
   "source": [
    "#export\n",
    "class Tanks:\n",
    "    \"`Artemis API` Tanks entity object\"\n",
    "    def __init__(self, client): \n",
    "        self.client = client\n",
    "        self.response = None\n",
    "    \n",
    "    def find_all(self, facility_id):\n",
    "        \"Retrieves all tanks for a specific facility\"\n",
    "        self.response = self.client.get(f'/facilities/{facility_id}/tanks')\n",
    "        return self.client.response_handler(self.response)\n",
    "    \n",
    "    def find(self, facility_id, tank_id):\n",
    "        \"Retrieves a  for a specific metric\"\n",
    "        self.response = self.client.get(f'/facilities/{facility_id}/tanks/{tank_id}')\n",
    "        return self.client.response_handler(self.response)\n",
    "    \n",
    "    def create(self, facility_id, attributes):\n",
    "        \"Creates a new tank for a pecific facility\"\n",
    "        data = {}\n",
    "        body = {}\n",
    "        data['type'] = \"tanks\"\n",
    "        data['attributes'] = attributes\n",
    "        body['facility_id'] = facility_id\n",
    "        body['_jsonapi'] = {}\n",
    "        body['_jsonapi']['data'] = data\n",
    "        self.response = self.client.post(f'/facilities/{facility_id}/tanks', json.dumps(body))\n",
    "        return self.client.response_handler(self.response, body)\n",
    "    \n",
    "    def update(self, facility_id, tank_id, attributes):\n",
    "        \"Updates an existing tank for a specific facility\"\n",
    "        data = {}\n",
    "        body = {}\n",
    "        data['type'] = \"tanks\"\n",
    "        data['attributes'] = attributes\n",
    "        body['facility_id'] = facility_id\n",
    "        body['id'] = tank_id\n",
    "        body['_jsonapi'] = {}\n",
    "        body['_jsonapi']['data'] = data\n",
    "        self.response = self.client.put(f'/facilities/{facility_id}/tanks/{tank_id}', json.dumps(body))\n",
    "        return self.client.response_handler(self.response, body)\n",
    "    \n",
    "    def remove(self, facility_id, tank_id):\n",
    "        \"Deletes a specific tank for a specific facility\"\n",
    "        self.response = self.client.delete(f'/facilities/{facility_id}/tanks/{tank_id}')\n",
    "        return self.client.response_handler(self.response)"
   ]
  },
  {
   "cell_type": "code",
   "execution_count": null,
   "metadata": {},
   "outputs": [
    {
     "data": {
      "text/markdown": [
       "<h4 id=\"Tanks.find_all\" class=\"doc_header\"><code>Tanks.find_all</code><a href=\"__main__.py#L8\" class=\"source_link\" style=\"float:right\">[source]</a></h4>\n",
       "\n",
       "> <code>Tanks.find_all</code>(**`facility_id`**)\n",
       "\n",
       "Retrieves all tanks for a specific facility"
      ],
      "text/plain": [
       "<IPython.core.display.Markdown object>"
      ]
     },
     "metadata": {},
     "output_type": "display_data"
    }
   ],
   "source": [
    "show_doc(Tanks.find_all)"
   ]
  },
  {
   "cell_type": "code",
   "execution_count": null,
   "metadata": {},
   "outputs": [],
   "source": [
    "#hide\n",
    "client = APIClient(auth_token=\"YOUR_AUTHORIZATION_CODE\", automatic_refresh=False)"
   ]
  },
  {
   "cell_type": "markdown",
   "metadata": {},
   "source": [
    "Let's look for all existing tanks"
   ]
  },
  {
   "cell_type": "code",
   "execution_count": null,
   "metadata": {},
   "outputs": [],
   "source": [
    "tank = Tanks(client)"
   ]
  },
  {
   "cell_type": "code",
   "execution_count": null,
   "metadata": {},
   "outputs": [
    {
     "data": {
      "text/plain": [
       "[{'id': '6',\n",
       "  'type': 'tanks',\n",
       "  'attributes': {'id': 6,\n",
       "   'facility_id': 1,\n",
       "   'name': 'new tank',\n",
       "   'capacity': 600,\n",
       "   'status': 'active'},\n",
       "  'relationships': {'zones': {'meta': {'included': False}},\n",
       "   'tank_readings': {'meta': {'included': False}}}},\n",
       " {'id': '5',\n",
       "  'type': 'tanks',\n",
       "  'attributes': {'id': 5,\n",
       "   'facility_id': 1,\n",
       "   'name': 'updated tank',\n",
       "   'capacity': 500,\n",
       "   'status': 'active'},\n",
       "  'relationships': {'zones': {'meta': {'included': False}},\n",
       "   'tank_readings': {'meta': {'included': False}}}},\n",
       " {'id': '4',\n",
       "  'type': 'tanks',\n",
       "  'attributes': {'id': 4,\n",
       "   'facility_id': 1,\n",
       "   'name': 'new tank',\n",
       "   'capacity': 600,\n",
       "   'status': 'active'},\n",
       "  'relationships': {'zones': {'meta': {'included': False}},\n",
       "   'tank_readings': {'meta': {'included': False}}}},\n",
       " {'id': '3',\n",
       "  'type': 'tanks',\n",
       "  'attributes': {'id': 3,\n",
       "   'facility_id': 1,\n",
       "   'name': 'Tank Temperature',\n",
       "   'capacity': 7417,\n",
       "   'status': 'active'},\n",
       "  'relationships': {'zones': {'meta': {'included': False}},\n",
       "   'tank_readings': {'meta': {'included': False}}}},\n",
       " {'id': '2',\n",
       "  'type': 'tanks',\n",
       "  'attributes': {'id': 2,\n",
       "   'facility_id': 1,\n",
       "   'name': 'Tank EC',\n",
       "   'capacity': 5614,\n",
       "   'status': 'active'},\n",
       "  'relationships': {'zones': {'meta': {'included': False}},\n",
       "   'tank_readings': {'meta': {'included': False}}}},\n",
       " {'id': '1',\n",
       "  'type': 'tanks',\n",
       "  'attributes': {'id': 1,\n",
       "   'facility_id': 1,\n",
       "   'name': 'Tank pH',\n",
       "   'capacity': 7362,\n",
       "   'status': 'active'},\n",
       "  'relationships': {'zones': {'meta': {'included': False}},\n",
       "   'tank_readings': {'meta': {'included': False}}}}]"
      ]
     },
     "execution_count": null,
     "metadata": {},
     "output_type": "execute_result"
    }
   ],
   "source": [
    "tank.find_all(facility_id=1)"
   ]
  },
  {
   "cell_type": "code",
   "execution_count": null,
   "metadata": {},
   "outputs": [
    {
     "data": {
      "text/markdown": [
       "<h4 id=\"Tanks.find\" class=\"doc_header\"><code>Tanks.find</code><a href=\"__main__.py#L13\" class=\"source_link\" style=\"float:right\">[source]</a></h4>\n",
       "\n",
       "> <code>Tanks.find</code>(**`facility_id`**, **`tank_id`**)\n",
       "\n",
       "Retrieves a  for a specific metric"
      ],
      "text/plain": [
       "<IPython.core.display.Markdown object>"
      ]
     },
     "metadata": {},
     "output_type": "display_data"
    }
   ],
   "source": [
    "show_doc(Tanks.find)"
   ]
  },
  {
   "cell_type": "code",
   "execution_count": null,
   "metadata": {},
   "outputs": [
    {
     "data": {
      "text/plain": [
       "{'id': '2',\n",
       " 'type': 'tanks',\n",
       " 'attributes': {'id': 2,\n",
       "  'facility_id': 1,\n",
       "  'name': 'Tank EC',\n",
       "  'capacity': 5614,\n",
       "  'status': 'active'},\n",
       " 'relationships': {'zones': {'meta': {'included': False}},\n",
       "  'tank_readings': {'meta': {'included': False}}}}"
      ]
     },
     "execution_count": null,
     "metadata": {},
     "output_type": "execute_result"
    }
   ],
   "source": [
    "tank.find(facility_id=1, tank_id=2)"
   ]
  },
  {
   "cell_type": "code",
   "execution_count": null,
   "metadata": {},
   "outputs": [
    {
     "data": {
      "text/markdown": [
       "<h4 id=\"Tanks.create\" class=\"doc_header\"><code>Tanks.create</code><a href=\"__main__.py#L18\" class=\"source_link\" style=\"float:right\">[source]</a></h4>\n",
       "\n",
       "> <code>Tanks.create</code>(**`facility_id`**, **`attributes`**)\n",
       "\n",
       "Creates a new tank for a pecific facility"
      ],
      "text/plain": [
       "<IPython.core.display.Markdown object>"
      ]
     },
     "metadata": {},
     "output_type": "display_data"
    }
   ],
   "source": [
    "show_doc(Tanks.create)"
   ]
  },
  {
   "cell_type": "markdown",
   "metadata": {},
   "source": [
    "Let's create a new tank"
   ]
  },
  {
   "cell_type": "code",
   "execution_count": null,
   "metadata": {},
   "outputs": [
    {
     "data": {
      "text/plain": [
       "{'id': '7',\n",
       " 'type': 'tanks',\n",
       " 'attributes': {'id': 7,\n",
       "  'facility_id': 1,\n",
       "  'name': 'new tank',\n",
       "  'capacity': 600,\n",
       "  'status': 'active'},\n",
       " 'relationships': {'zones': {'meta': {'included': False}},\n",
       "  'tank_readings': {'meta': {'included': False}}}}"
      ]
     },
     "execution_count": null,
     "metadata": {},
     "output_type": "execute_result"
    }
   ],
   "source": [
    "attributes = {\n",
    "    \"name\": \"new tank\", \"capacity\":  600}\n",
    "created_tank = tank.create(facility_id=1, attributes=attributes)\n",
    "created_tank"
   ]
  },
  {
   "cell_type": "code",
   "execution_count": null,
   "metadata": {},
   "outputs": [
    {
     "data": {
      "text/markdown": [
       "<h4 id=\"Tanks.update\" class=\"doc_header\"><code>Tanks.update</code><a href=\"__main__.py#L30\" class=\"source_link\" style=\"float:right\">[source]</a></h4>\n",
       "\n",
       "> <code>Tanks.update</code>(**`facility_id`**, **`tank_id`**, **`attributes`**)\n",
       "\n",
       "Updates an existing tank for a specific facility"
      ],
      "text/plain": [
       "<IPython.core.display.Markdown object>"
      ]
     },
     "metadata": {},
     "output_type": "display_data"
    }
   ],
   "source": [
    "show_doc(Tanks.update)"
   ]
  },
  {
   "cell_type": "markdown",
   "metadata": {},
   "source": [
    "Let's update an existing tank"
   ]
  },
  {
   "cell_type": "code",
   "execution_count": null,
   "metadata": {},
   "outputs": [
    {
     "data": {
      "text/plain": [
       "{'id': '5',\n",
       " 'type': 'tanks',\n",
       " 'attributes': {'id': 5,\n",
       "  'facility_id': 1,\n",
       "  'name': 'updated tank',\n",
       "  'capacity': 500,\n",
       "  'status': 'active'},\n",
       " 'relationships': {'zones': {'meta': {'included': False}},\n",
       "  'tank_readings': {'meta': {'included': False}}}}"
      ]
     },
     "execution_count": null,
     "metadata": {},
     "output_type": "execute_result"
    }
   ],
   "source": [
    "attributes = {\n",
    "    \"name\": \"updated tank\", \"capacity\":  500}\n",
    "updated_tank = tank.update(facility_id=1, tank_id=5, attributes=attributes)\n",
    "updated_tank"
   ]
  },
  {
   "cell_type": "code",
   "execution_count": null,
   "metadata": {},
   "outputs": [
    {
     "data": {
      "text/markdown": [
       "<h4 id=\"Tanks.remove\" class=\"doc_header\"><code>Tanks.remove</code><a href=\"__main__.py#L43\" class=\"source_link\" style=\"float:right\">[source]</a></h4>\n",
       "\n",
       "> <code>Tanks.remove</code>(**`facility_id`**, **`tank_id`**)\n",
       "\n",
       "Deletes a specific tank for a specific facility"
      ],
      "text/plain": [
       "<IPython.core.display.Markdown object>"
      ]
     },
     "metadata": {},
     "output_type": "display_data"
    }
   ],
   "source": [
    "show_doc(Tanks.remove)"
   ]
  },
  {
   "cell_type": "markdown",
   "metadata": {},
   "source": [
    "Let's delete an existing tank"
   ]
  },
  {
   "cell_type": "code",
   "execution_count": null,
   "metadata": {},
   "outputs": [
    {
     "data": {
      "text/plain": [
       "{'id': '5',\n",
       " 'type': 'tanks',\n",
       " 'attributes': {'id': 5,\n",
       "  'facility_id': 1,\n",
       "  'name': 'updated tank',\n",
       "  'capacity': 500,\n",
       "  'status': 'removed'},\n",
       " 'relationships': {'zones': {'meta': {'included': False}},\n",
       "  'tank_readings': {'meta': {'included': False}}}}"
      ]
     },
     "execution_count": null,
     "metadata": {},
     "output_type": "execute_result"
    }
   ],
   "source": [
    "tank.remove(facility_id=1, tank_id=5)"
   ]
  },
  {
   "cell_type": "code",
   "execution_count": null,
   "metadata": {},
   "outputs": [
    {
     "name": "stdout",
     "output_type": "stream",
     "text": [
      "Request Failed - 404: Not Found\n"
     ]
    }
   ],
   "source": [
    "tank.find(facility_id=1, tank_id=5)"
   ]
  },
  {
   "cell_type": "code",
   "execution_count": null,
   "metadata": {},
   "outputs": [],
   "source": []
  }
 ],
 "metadata": {
  "kernelspec": {
   "display_name": "Python [conda env:nbdev]",
   "language": "python",
   "name": "conda-env-nbdev-py"
  }
 },
 "nbformat": 4,
 "nbformat_minor": 4
}
