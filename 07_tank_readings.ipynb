{
 "cells": [
  {
   "cell_type": "code",
   "execution_count": null,
   "metadata": {},
   "outputs": [],
   "source": [
    "# default_exp tank_readings"
   ]
  },
  {
   "cell_type": "code",
   "execution_count": null,
   "metadata": {},
   "outputs": [],
   "source": [
    "#hide\n",
    "%load_ext autoreload\n",
    "%autoreload 2"
   ]
  },
  {
   "cell_type": "markdown",
   "metadata": {},
   "source": [
    "# Tank Readings\n",
    "> Artemis Tank Readings entity implementation to use the associated tank readings API endpoints."
   ]
  },
  {
   "cell_type": "code",
   "execution_count": null,
   "metadata": {},
   "outputs": [],
   "source": [
    "#hide\n",
    "from nbdev.showdoc import *\n",
    "from artemis_api_python.client import *\n",
    "from artemis_api_python.tanks import *"
   ]
  },
  {
   "cell_type": "code",
   "execution_count": null,
   "metadata": {},
   "outputs": [
    {
     "data": {
      "text/plain": [
       "True"
      ]
     },
     "execution_count": null,
     "metadata": {},
     "output_type": "execute_result"
    }
   ],
   "source": [
    "#hide\n",
    "from dotenv import load_dotenv\n",
    "load_dotenv(dotenv_path='.env')"
   ]
  },
  {
   "cell_type": "code",
   "execution_count": null,
   "metadata": {},
   "outputs": [],
   "source": [
    "#export\n",
    "import json"
   ]
  },
  {
   "cell_type": "code",
   "execution_count": null,
   "metadata": {},
   "outputs": [],
   "source": [
    "#export\n",
    "class TankReadings:\n",
    "    \"`Artemis API` TankReadings entity object\"\n",
    "    def __init__(self, client): \n",
    "        self.client = client\n",
    "        self.response = None\n",
    "    \n",
    "    def create(self, facility_id, tank_id, attributes, meta):\n",
    "        \"Creates a new tank readings for specific tank metrics (specified in meta)\"\n",
    "        data = {}\n",
    "        body = {}\n",
    "        data['type'] = \"tank_readings\"\n",
    "        data['attributes'] = attributes\n",
    "        data['meta'] = meta\n",
    "        body['facility_id'] = facility_id\n",
    "        body['tank_id'] = tank_id\n",
    "        body['_jsonapi'] = {}\n",
    "        body['_jsonapi']['data'] = data\n",
    "        self.response = self.client.post(f'/facilities/{facility_id}/tanks/{tank_id}/tank_readings', json.dumps(body))\n",
    "        return self.client.response_handler(self.response, body)"
   ]
  },
  {
   "cell_type": "code",
   "execution_count": null,
   "metadata": {},
   "outputs": [
    {
     "data": {
      "text/markdown": [
       "<h4 id=\"TankReadings.create\" class=\"doc_header\"><code>TankReadings.create</code><a href=\"__main__.py#L8\" class=\"source_link\" style=\"float:right\">[source]</a></h4>\n",
       "\n",
       "> <code>TankReadings.create</code>(**`facility_id`**, **`tank_id`**, **`attributes`**, **`meta`**)\n",
       "\n",
       "Creates a new tank readings for specific tank metrics (specified in meta)"
      ],
      "text/plain": [
       "<IPython.core.display.Markdown object>"
      ]
     },
     "metadata": {},
     "output_type": "display_data"
    }
   ],
   "source": [
    "show_doc(TankReadings.create)"
   ]
  },
  {
   "cell_type": "code",
   "execution_count": null,
   "metadata": {},
   "outputs": [],
   "source": [
    "#hide\n",
    "client = APIClient(auth_code=\"YOUR_AUTHORIZATION_CODE\", automatic_refresh=False)"
   ]
  },
  {
   "cell_type": "markdown",
   "metadata": {},
   "source": [
    "Let's create tank readings for tank `tank_id=2` and metrics `1`, `2`, `3`"
   ]
  },
  {
   "cell_type": "code",
   "execution_count": null,
   "metadata": {},
   "outputs": [],
   "source": [
    "tank_readings = TankReadings(client)"
   ]
  },
  {
   "cell_type": "code",
   "execution_count": null,
   "metadata": {},
   "outputs": [
    {
     "data": {
      "text/plain": [
       "{'id': '43',\n",
       " 'type': 'tank_readings',\n",
       " 'attributes': {'id': 43,\n",
       "  'tank_id': 2,\n",
       "  'facility_id': 1,\n",
       "  'created_by_user_id': 2,\n",
       "  'status': 'active',\n",
       "  'last_edited_by_user_id': None},\n",
       " 'relationships': {'dots': {'data': [{'type': 'data', 'id': '461'},\n",
       "    {'type': 'data', 'id': '460'},\n",
       "    {'type': 'data', 'id': '459'}]},\n",
       "  'kpis': {'meta': {'included': False}}}}"
      ]
     },
     "execution_count": null,
     "metadata": {},
     "output_type": "execute_result"
    }
   ],
   "source": [
    "tank_id=2\n",
    "attributes = {\n",
    "    'tank_id': tank_id,\n",
    "    'time': \"2021-02-23T12:16:00+00:00\"\n",
    "}\n",
    "meta = {}\n",
    "meta[\"metrics\"]= [\n",
    "    { \"id\": 1, \"value\": 1 },\n",
    "    { \"id\": 2, \"value\": 5 },\n",
    "    { \"id\": 3, \"value\": 6 }]\n",
    "created_tank_readings = tank_readings.create(facility_id=1, tank_id=2, attributes=attributes, meta=meta)\n",
    "created_tank_readings"
   ]
  }
 ],
 "metadata": {
  "kernelspec": {
   "display_name": "Python [conda env:nbdev]",
   "language": "python",
   "name": "conda-env-nbdev-py"
  }
 },
 "nbformat": 4,
 "nbformat_minor": 4
}
