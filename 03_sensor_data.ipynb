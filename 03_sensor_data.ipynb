{
 "cells": [
  {
   "cell_type": "code",
   "execution_count": null,
   "metadata": {},
   "outputs": [],
   "source": [
    "# default_exp sensor_data"
   ]
  },
  {
   "cell_type": "code",
   "execution_count": null,
   "metadata": {},
   "outputs": [
    {
     "name": "stdout",
     "output_type": "stream",
     "text": [
      "The autoreload extension is already loaded. To reload it, use:\n",
      "  %reload_ext autoreload\n"
     ]
    }
   ],
   "source": [
    "#hide\n",
    "%load_ext autoreload\n",
    "%autoreload 2"
   ]
  },
  {
   "cell_type": "markdown",
   "metadata": {},
   "source": [
    "# Sensor Data\n",
    "> Artemis Sensor Data entity implementation to use the associated sensor data API endpoints."
   ]
  },
  {
   "cell_type": "code",
   "execution_count": null,
   "metadata": {},
   "outputs": [],
   "source": [
    "#hide\n",
    "from nbdev.showdoc import *\n",
    "from artemis_api_python.client import *\n",
    "from artemis_api_python.sensor import *\n",
    "from artemis_api_python.metric import *"
   ]
  },
  {
   "cell_type": "code",
   "execution_count": null,
   "metadata": {},
   "outputs": [
    {
     "data": {
      "text/plain": [
       "True"
      ]
     },
     "execution_count": null,
     "metadata": {},
     "output_type": "execute_result"
    }
   ],
   "source": [
    "#hide\n",
    "from dotenv import load_dotenv\n",
    "load_dotenv(dotenv_path='.env')"
   ]
  },
  {
   "cell_type": "code",
   "execution_count": null,
   "metadata": {},
   "outputs": [],
   "source": [
    "#export\n",
    "import json"
   ]
  },
  {
   "cell_type": "code",
   "execution_count": null,
   "metadata": {},
   "outputs": [],
   "source": [
    "#export\n",
    "class SensorData:\n",
    "    \"`Artemis API` Sensor Data entity object\"\n",
    "    def __init__(self, client): \n",
    "        self.client = client\n",
    "        self.response = None\n",
    "        \n",
    "    def create(self, facility_id, sensor_id, metric_id, attributes):\n",
    "        \"Creates sensor data points for a specific facility, sensor and metric\"\n",
    "        data = {}\n",
    "        body = {}\n",
    "        data['type'] = \"sensor_data\"\n",
    "        data['attributes'] = attributes\n",
    "        body['facility_id'] = facility_id\n",
    "        body['sensor_id'] = sensor_id\n",
    "        body['metric_id'] = metric_id\n",
    "        body['_jsonapi'] = {}\n",
    "        body['_jsonapi']['data'] = data\n",
    "        self.response = self.client.post(f'/facilities/{facility_id}/sensors/{sensor_id}/sensor_data', json.dumps(body))\n",
    "        return self.client.response_handler(self.response, body)\n",
    "    \n",
    "    def remove(self, facility_id, sensor_id, metric_id, time_stamp):\n",
    "        \"Deletes a specific sensor data point for a specific facility, sensor, metric and time_stamp\"\n",
    "        body = {}\n",
    "        body['facility_id'] = facility_id\n",
    "        body['sensor_id'] = sensor_id\n",
    "        body['metric_id'] = metric_id\n",
    "        body['recorded_at'] = time_stamp\n",
    "        self.response = self.client.delete(f'/facilities/{facility_id}/sensors/{sensor_id}/sensor_data/{time_stamp}', json.dumps(body))\n",
    "        return self.client.response_handler(self.response, body)\n",
    "    "
   ]
  },
  {
   "cell_type": "code",
   "execution_count": null,
   "metadata": {},
   "outputs": [
    {
     "data": {
      "text/markdown": [
       "<h4 id=\"SensorData.create\" class=\"doc_header\"><code>SensorData.create</code><a href=\"__main__.py#L8\" class=\"source_link\" style=\"float:right\">[source]</a></h4>\n",
       "\n",
       "> <code>SensorData.create</code>(**`facility_id`**, **`sensor_id`**, **`metric_id`**, **`attributes`**)\n",
       "\n",
       "Creates sensor data points for a specific facility, sensor and metric"
      ],
      "text/plain": [
       "<IPython.core.display.Markdown object>"
      ]
     },
     "metadata": {},
     "output_type": "display_data"
    }
   ],
   "source": [
    "show_doc(SensorData.create)"
   ]
  },
  {
   "cell_type": "code",
   "execution_count": null,
   "metadata": {},
   "outputs": [],
   "source": [
    "#hide\n",
    "client = APIClient(auth_code=\"YOUR_AUTHORIZATION_CODE\")"
   ]
  },
  {
   "cell_type": "markdown",
   "metadata": {},
   "source": [
    "Let's create a couple data points for `LMT1:CMP 1 PAR SENSOR sensor_id: 6` and it's `outside temp metric, metric_id: 76`"
   ]
  },
  {
   "cell_type": "code",
   "execution_count": null,
   "metadata": {},
   "outputs": [],
   "source": [
    "sensor_data = SensorData(client)"
   ]
  },
  {
   "cell_type": "code",
   "execution_count": null,
   "metadata": {},
   "outputs": [
    {
     "data": {
      "text/plain": [
       "{'facility_id': 1,\n",
       " 'sensor_id': 6,\n",
       " 'metric_id': 76,\n",
       " '_jsonapi': {'data': {'type': 'sensor_data',\n",
       "   'attributes': {'points': [{'float_value': 20.7,\n",
       "      'recorded_at': '2021-02-23T12:16:00+00:00'},\n",
       "     {'float_value': 20.7, 'recorded_at': '2021-02-23T13:17:00+00:00'},\n",
       "     {'float_value': 20.8, 'recorded_at': '2021-02-23T14:18:00+00:00'},\n",
       "     {'float_value': 21.0, 'recorded_at': '2021-02-23T15:19:00+00:00'}]}}}}"
      ]
     },
     "execution_count": null,
     "metadata": {},
     "output_type": "execute_result"
    }
   ],
   "source": [
    "attributes = {\n",
    "    \"points\": [\n",
    "        { \"float_value\": 20.7, \"recorded_at\":  \"2021-02-23T12:16:00+00:00\" },\n",
    "        { \"float_value\": 20.7, \"recorded_at\":  \"2021-02-23T13:17:00+00:00\" },\n",
    "        { \"float_value\": 20.8, \"recorded_at\":  \"2021-02-23T14:18:00+00:00\" },\n",
    "        { \"float_value\": 21.0, \"recorded_at\":  \"2021-02-23T15:19:00+00:00\" }]}\n",
    "created_sensor_data = sensor_data.create(facility_id=1, sensor_id=6, metric_id=76, attributes=attributes)\n",
    "created_sensor_data"
   ]
  },
  {
   "cell_type": "code",
   "execution_count": null,
   "metadata": {},
   "outputs": [
    {
     "data": {
      "text/markdown": [
       "<h4 id=\"SensorData.remove\" class=\"doc_header\"><code>SensorData.remove</code><a href=\"__main__.py#L22\" class=\"source_link\" style=\"float:right\">[source]</a></h4>\n",
       "\n",
       "> <code>SensorData.remove</code>(**`facility_id`**, **`sensor_id`**, **`metric_id`**, **`time_stamp`**)\n",
       "\n",
       "Deletes a specific sensor data point for a specific facility, sensor, metric and time_stamp"
      ],
      "text/plain": [
       "<IPython.core.display.Markdown object>"
      ]
     },
     "metadata": {},
     "output_type": "display_data"
    }
   ],
   "source": [
    "show_doc(SensorData.remove)"
   ]
  },
  {
   "cell_type": "markdown",
   "metadata": {},
   "source": [
    "Let's remove one data point `recorded_at: 2021-02-23T12:16:00+00:00` for the `outside temp metric, metric_id: 76` of the `LMT1:CMP 1 PAR SENSOR sensor_id: 6` sensor"
   ]
  },
  {
   "cell_type": "code",
   "execution_count": null,
   "metadata": {},
   "outputs": [
    {
     "data": {
      "text/plain": [
       "{'facility_id': 1,\n",
       " 'sensor_id': 6,\n",
       " 'metric_id': 76,\n",
       " 'recorded_at': '2021-02-23T12:16:00+00:00'}"
      ]
     },
     "execution_count": null,
     "metadata": {},
     "output_type": "execute_result"
    }
   ],
   "source": [
    "deleted_sensor_data = sensor_data.remove(facility_id=1, sensor_id=6, metric_id=76, time_stamp=\"2021-02-23T12:16:00+00:00\")\n",
    "deleted_sensor_data"
   ]
  }
 ],
 "metadata": {
  "kernelspec": {
   "display_name": "Python [conda env:nbdev]",
   "language": "python",
   "name": "conda-env-nbdev-py"
  }
 },
 "nbformat": 4,
 "nbformat_minor": 4
}
