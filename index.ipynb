{
 "cells": [
  {
   "cell_type": "code",
   "execution_count": null,
   "metadata": {},
   "outputs": [],
   "source": [
    "#hide\n",
    "%load_ext autoreload\n",
    "%autoreload 2"
   ]
  },
  {
   "cell_type": "code",
   "execution_count": null,
   "metadata": {},
   "outputs": [],
   "source": [
    "#hide\n",
    "from artemis_api_python.client import *\n",
    "from artemis_api_python.sensor import *"
   ]
  },
  {
   "cell_type": "markdown",
   "metadata": {},
   "source": [
    "# Artemis API\n",
    "\n",
    "> This is a basic python wrapper implementation for the Artemis API."
   ]
  },
  {
   "cell_type": "markdown",
   "metadata": {},
   "source": [
    "## Install"
   ]
  },
  {
   "cell_type": "markdown",
   "metadata": {},
   "source": [
    "`pip install artemis_api_python`"
   ]
  },
  {
   "cell_type": "markdown",
   "metadata": {},
   "source": [
    "## How to use "
   ]
  },
  {
   "cell_type": "markdown",
   "metadata": {},
   "source": [
    "You'll need to use OAuth 2.0 and the [Authorization Code Flow](https://auth0.com/docs/flows/authorization-code-flow) to authenticate and interact with the Artemis Ag API\n",
    "\n",
    "Additional details regarding the Artemis API is also available on the [Artemis developer website](https://developer.artemisag.com/) and the [API's documentation website](https://portal.artemisag.com/api/docs)"
   ]
  },
  {
   "cell_type": "markdown",
   "metadata": {},
   "source": [
    "### Create an app and generate an authorization code"
   ]
  },
  {
   "cell_type": "markdown",
   "metadata": {},
   "source": [
    "You'll first need to create an application through the Artemis portal then generate an authorization code."
   ]
  },
  {
   "cell_type": "markdown",
   "metadata": {},
   "source": [
    "One of your Artemis users (which you'll be using to interact with the API) will need access to the API.\n",
    "If you’re not flagged as a developer account and you need to be, contact your Artemis representative or email [jdayton@artemisag.com](mailto:jdayton@artemisag.com) and we’ll help you get set up."
   ]
  },
  {
   "cell_type": "markdown",
   "metadata": {},
   "source": [
    "Then head to `Settings > API > OAuth 2.0` section and create an application:"
   ]
  },
  {
   "cell_type": "markdown",
   "metadata": {},
   "source": [
    "!['create_application.png'](docs/images/create_application.png)"
   ]
  },
  {
   "cell_type": "markdown",
   "metadata": {},
   "source": [
    "Set the `Name` of the application, the `Redirect URI` as needed.\n",
    "If you'd like to access your authorization code directly, you can add to the redirect URIs `urn:ietf:wg:oauth:2.0:oob` as an additional callback url to your OAuth application. Then press `Submit`"
   ]
  },
  {
   "cell_type": "markdown",
   "metadata": {},
   "source": [
    "A new Application should now be created. The associated `Application UID` and `Secret` should also be displayed on screen (should be safely stored on your end)"
   ]
  },
  {
   "cell_type": "markdown",
   "metadata": {},
   "source": [
    "![application_created.png](docs/images/application_created.png)"
   ]
  },
  {
   "cell_type": "markdown",
   "metadata": {},
   "source": [
    "Press `Authorize`, to generate an authorization code and store it on your end"
   ]
  },
  {
   "cell_type": "markdown",
   "metadata": {},
   "source": [
    "### Setup Environment variables"
   ]
  },
  {
   "cell_type": "markdown",
   "metadata": {},
   "source": [
    "You'll then need to set the following environment variables using the previously retrieved information:\n",
    "\n",
    "- `ARTEMIS_OAUTH_APP_ID` = YOUR_APPLICATION_UUID\n",
    "- `ARTEMIS_OAUTH_APP_SECRET` = YOUR_APPLICATION_SECRET\n",
    "- `ARTEMIS_BASE_URI` = https://portal.artemisag.com"
   ]
  },
  {
   "cell_type": "markdown",
   "metadata": {},
   "source": [
    "### Use the generated authorization code to retrieve a token:"
   ]
  },
  {
   "cell_type": "markdown",
   "metadata": {},
   "source": [
    "Once the authorization code has been generated, for the first authentication, you can pass the authorization code when creating an `APIClient` instance. This will generate a token that will contain an `access_token`"
   ]
  },
  {
   "cell_type": "code",
   "execution_count": null,
   "metadata": {},
   "outputs": [],
   "source": [
    "client = APIClient(auth_code=\"YOUR_AUTHORIZATION_CODE\")"
   ]
  },
  {
   "cell_type": "markdown",
   "metadata": {},
   "source": [
    "The generated token should have the following format:\n",
    "```\n",
    "{'access_token': 'YOUR_ACCESS_TOKEN'\n",
    " 'token_type': 'Bearer',\n",
    " 'expires_in': 7200,\n",
    " 'refresh_token': 'YOUR_REFRESH_TOKEN',\n",
    " 'scope': ['default'],\n",
    " 'created_at': 1614610952,\n",
    " 'expires_at': 1614618152.409052}\n",
    "```"
   ]
  },
  {
   "cell_type": "markdown",
   "metadata": {},
   "source": [
    "### Refreshing a token manually"
   ]
  },
  {
   "cell_type": "markdown",
   "metadata": {},
   "source": [
    "Since the `access_token` will have a limited duration, you'll need to refresh it. This can be done by passing the token when creating an `APIClient` to refresh it:"
   ]
  },
  {
   "cell_type": "code",
   "execution_count": null,
   "metadata": {},
   "outputs": [],
   "source": [
    "client_refresh = APIClient(token=client.token)"
   ]
  },
  {
   "cell_type": "markdown",
   "metadata": {},
   "source": [
    "The token information should then be updated:\n",
    "```\n",
    "{'access_token': 'YOUR_NEW_ACCESS_TOKEN',\n",
    " 'token_type': 'Bearer',\n",
    " 'expires_in': 7200,\n",
    " 'refresh_token': 'YOUR_NEW_REFRESH_TOKEN',\n",
    " 'scope': ['default'],\n",
    " 'created_at': 1614614804,\n",
    " 'expires_at': 1614622004.975017}\n",
    " ```"
   ]
  },
  {
   "cell_type": "markdown",
   "metadata": {},
   "source": [
    "### Automatic token refresh"
   ]
  },
  {
   "cell_type": "markdown",
   "metadata": {},
   "source": [
    "By default, an `APIClient` instance will have it's token refreshed on each API request (GET/POST/PUT/DELETE). You can deactivate this behavior by setting the `automatic_refresh` argument to `False` when creating an APIClient.\n",
    "\n",
    "We also recommend storing/saving the generated token information on our end in database for instance, after each request call if the `automatic_refresh` option is activated. You can access the client token anytime using the `client.token` attribute"
   ]
  },
  {
   "cell_type": "markdown",
   "metadata": {},
   "source": [
    "### Retrieving Data Example"
   ]
  },
  {
   "cell_type": "code",
   "execution_count": null,
   "metadata": {},
   "outputs": [],
   "source": [
    "sensor = Sensor(client_refresh)"
   ]
  },
  {
   "cell_type": "code",
   "execution_count": null,
   "metadata": {},
   "outputs": [
    {
     "data": {
      "text/plain": [
       "[{'id': '5642',\n",
       "  'type': 'sensors',\n",
       "  'attributes': {'id': 5642,\n",
       "   'name': 'Priva Root Optimizer',\n",
       "   'facility_id': 1574,\n",
       "   'model': 'priva',\n",
       "   'created_at': '2021-03-02T18:24:32.555Z',\n",
       "   'visible': True,\n",
       "   'status': 'active',\n",
       "   'device_id': None,\n",
       "   'string': None,\n",
       "   'slug': 'priva-root-optimizer'},\n",
       "  'relationships': {'metrics': {'meta': {'included': False}},\n",
       "   'sensor_data': {'meta': {'included': False}}}}]"
      ]
     },
     "execution_count": null,
     "metadata": {},
     "output_type": "execute_result"
    }
   ],
   "source": [
    "sensors = sensor.find_all(1574)\n",
    "sensors"
   ]
  }
 ],
 "metadata": {
  "kernelspec": {
   "display_name": "Python [conda env:nbdev]",
   "language": "python",
   "name": "conda-env-nbdev-py"
  }
 },
 "nbformat": 4,
 "nbformat_minor": 2
}
