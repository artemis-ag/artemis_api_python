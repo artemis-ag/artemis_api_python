{
 "cells": [
  {
   "cell_type": "code",
   "execution_count": null,
   "metadata": {},
   "outputs": [],
   "source": [
    "#hide\n",
    "%load_ext autoreload\n",
    "%autoreload 2"
   ]
  },
  {
   "cell_type": "code",
   "execution_count": null,
   "metadata": {},
   "outputs": [],
   "source": [
    "#hide\n",
    "from artemis_api_python.client import *\n",
    "from artemis_api_python.sensor import *"
   ]
  },
  {
   "cell_type": "markdown",
   "metadata": {},
   "source": [
    "# Artemis API\n",
    "\n",
    "> This is a basic python wrapper implementation for the Artemis API."
   ]
  },
  {
   "cell_type": "markdown",
   "metadata": {},
   "source": [
    "## Install"
   ]
  },
  {
   "cell_type": "markdown",
   "metadata": {},
   "source": [
    "`pip install artemis_api_python`"
   ]
  },
  {
   "cell_type": "markdown",
   "metadata": {},
   "source": [
    "## How to use "
   ]
  },
  {
   "cell_type": "markdown",
   "metadata": {},
   "source": [
    "You'll need to use OAuth 2.0 and the [Authorization Code Flow](https://auth0.com/docs/flows/authorization-code-flow) to authenticate and interact with the Artemis Ag API\n",
    "\n",
    "Additional details regarding the Artemis API is also available on the [Artemis developer website](https://developer.artemisag.com/)"
   ]
  },
  {
   "cell_type": "markdown",
   "metadata": {},
   "source": [
    "### Create an app and generate an authorization code"
   ]
  },
  {
   "cell_type": "markdown",
   "metadata": {},
   "source": [
    "You'll first need to create an application through the Artemis portal then generate an authorization code."
   ]
  },
  {
   "cell_type": "markdown",
   "metadata": {},
   "source": [
    "One of your Artemis users (which you'll be using to interact with the API) will need access to the API.\n",
    "If you’re not flagged as a developer account and you need to be, contact your Artemis representative or email [jdayton@artemisag.com](mailto:jdayton@artemisag.com) and we’ll help you get set up."
   ]
  },
  {
   "cell_type": "markdown",
   "metadata": {},
   "source": [
    "Then head to `Settings > API > OAuth 2.0` section and create an application:"
   ]
  },
  {
   "cell_type": "markdown",
   "metadata": {},
   "source": [
    "!['create_application.png'](docs/images/create_application.png)"
   ]
  },
  {
   "cell_type": "markdown",
   "metadata": {},
   "source": [
    "Set the `Name` of the application, the `Redirect URI` as needed.\n",
    "If you'd like to access your authorization code directly, you can add to the redirect URIs `urn:ietf:wg:oauth:2.0:oob` as an additional callback url to your OAuth application. Then press `Submit`"
   ]
  },
  {
   "cell_type": "markdown",
   "metadata": {},
   "source": [
    "A new Application should now be created. The associated `Application UID` and `Secret` should also be displayed on screen (should be safely stored on your end)"
   ]
  },
  {
   "cell_type": "markdown",
   "metadata": {},
   "source": [
    "![application_created.png](docs/images/application_created.png)"
   ]
  },
  {
   "cell_type": "markdown",
   "metadata": {},
   "source": [
    "Press `Authorize`, to generate an authorization code and store it on your end"
   ]
  },
  {
   "cell_type": "markdown",
   "metadata": {},
   "source": [
    "### Setup Environment variables"
   ]
  },
  {
   "cell_type": "markdown",
   "metadata": {},
   "source": [
    "You'll then need to set the following environment variables using the previously retrieved information:\n",
    "\n",
    "- `ARTEMIS_OAUTH_APP_ID` = YOUR_APPLICATION_UUID\n",
    "- `ARTEMIS_OAUTH_APP_SECRET` = YOUR_APPLICATION_SECRET\n",
    "- `ARTEMIS_BASE_URI` = https://portal.artemisag.com"
   ]
  },
  {
   "cell_type": "markdown",
   "metadata": {},
   "source": [
    "### Use the generated authorization code to retrieve a token:"
   ]
  },
  {
   "cell_type": "markdown",
   "metadata": {},
   "source": [
    "Once the authorization code has been generated, for the first authentication, you can pass the authorization code when creating an `APIClient` instance. This will generate a token that will contain an `access_token`"
   ]
  },
  {
   "cell_type": "code",
   "execution_count": null,
   "metadata": {},
   "outputs": [],
   "source": [
    "client = APIClient(auth_code=\"2U9Zo6ifXItIgGrjHB7O45Fjgg-GGBzxwtnf4-MP43E\")"
   ]
  },
  {
   "cell_type": "markdown",
   "metadata": {},
   "source": [
    "The generated token should have the following format:\n",
    "```\n",
    "{'access_token': 'YOUR_ACCESS_TOKEN'\n",
    " 'token_type': 'Bearer',\n",
    " 'expires_in': 7200,\n",
    " 'refresh_token': 'YOUR_REFRESH_TOKEN',\n",
    " 'scope': ['default'],\n",
    " 'created_at': 1614610952,\n",
    " 'expires_at': 1614618152.409052}\n",
    "```"
   ]
  },
  {
   "cell_type": "markdown",
   "metadata": {},
   "source": [
    "### Refreshing a token manually"
   ]
  },
  {
   "cell_type": "markdown",
   "metadata": {},
   "source": [
    "Since the `access_token` will have a limited duration, you'll need to refresh it. This can be done by passing the token when creating an `APIClient` to refresh it:"
   ]
  },
  {
   "cell_type": "code",
   "execution_count": null,
   "metadata": {},
   "outputs": [],
   "source": [
    "client_refresh = APIClient(token=client.token)"
   ]
  },
  {
   "cell_type": "markdown",
   "metadata": {},
   "source": [
    "The token information should then be updated:\n",
    "```\n",
    "{'access_token': 'YOUR_NEW_ACCESS_TOKEN',\n",
    " 'token_type': 'Bearer',\n",
    " 'expires_in': 7200,\n",
    " 'refresh_token': 'YOUR_NEW_REFRESH_TOKEN',\n",
    " 'scope': ['default'],\n",
    " 'created_at': 1614614804,\n",
    " 'expires_at': 1614622004.975017}\n",
    " ```"
   ]
  },
  {
   "cell_type": "code",
   "execution_count": null,
   "metadata": {},
   "outputs": [],
   "source": [
    "sensors = Sensor(client_refresh)"
   ]
  },
  {
   "cell_type": "code",
   "execution_count": null,
   "metadata": {},
   "outputs": [],
   "source": [
    "response = sensors.get_all(1574)"
   ]
  },
  {
   "cell_type": "code",
   "execution_count": null,
   "metadata": {},
   "outputs": [
    {
     "data": {
      "text/plain": [
       "b'{\"data\":[{\"id\":\"5637\",\"type\":\"sensors\",\"attributes\":{\"id\":5637,\"name\":\"vincent_test\",\"facility_id\":1574,\"model\":\"priva\",\"created_at\":\"2021-03-01T19:44:58.558Z\",\"visible\":true,\"status\":\"active\",\"device_id\":null,\"string\":null,\"slug\":\"vincent-test\"},\"relationships\":{\"metrics\":{\"meta\":{\"included\":false}},\"sensor_data\":{\"meta\":{\"included\":false}}}}],\"jsonapi\":{\"version\":\"1.0\"}}'"
      ]
     },
     "execution_count": null,
     "metadata": {},
     "output_type": "execute_result"
    }
   ],
   "source": [
    "response.content"
   ]
  },
  {
   "cell_type": "code",
   "execution_count": null,
   "metadata": {},
   "outputs": [
    {
     "name": "stdout",
     "output_type": "stream",
     "text": [
      "{'facility_id': 1574, '_jsonapi': {'data': {'type': 'sensors', 'attributes': {'name': 'vincent_test_2', 'model': 'priva'}}}}\n"
     ]
    }
   ],
   "source": [
    "response = sensors.post(1574, 'vincent_test_2', 'priva')"
   ]
  },
  {
   "cell_type": "code",
   "execution_count": null,
   "metadata": {},
   "outputs": [
    {
     "data": {
      "text/plain": [
       "b'{\"data\":{\"id\":\"5638\",\"type\":\"sensors\",\"attributes\":{\"id\":5638,\"name\":\"vincent_test_2\",\"facility_id\":1574,\"model\":\"priva\",\"created_at\":\"2021-03-01T20:27:33.274Z\",\"visible\":true,\"status\":\"active\",\"device_id\":null,\"string\":null,\"slug\":\"vincent-test-2\"},\"relationships\":{\"metrics\":{\"meta\":{\"included\":false}},\"sensor_data\":{\"meta\":{\"included\":false}}}},\"jsonapi\":{\"version\":\"1.0\"}}'"
      ]
     },
     "execution_count": null,
     "metadata": {},
     "output_type": "execute_result"
    }
   ],
   "source": [
    "response.content"
   ]
  },
  {
   "cell_type": "code",
   "execution_count": null,
   "metadata": {},
   "outputs": [],
   "source": [
    "response = sensors.get_all(1574)"
   ]
  },
  {
   "cell_type": "code",
   "execution_count": null,
   "metadata": {},
   "outputs": [
    {
     "data": {
      "text/plain": [
       "b'{\"data\":[{\"id\":\"5638\",\"type\":\"sensors\",\"attributes\":{\"id\":5638,\"name\":\"vincent_test_2\",\"facility_id\":1574,\"model\":\"priva\",\"created_at\":\"2021-03-01T20:27:33.274Z\",\"visible\":true,\"status\":\"active\",\"device_id\":null,\"string\":null,\"slug\":\"vincent-test-2\"},\"relationships\":{\"metrics\":{\"meta\":{\"included\":false}},\"sensor_data\":{\"meta\":{\"included\":false}}}},{\"id\":\"5637\",\"type\":\"sensors\",\"attributes\":{\"id\":5637,\"name\":\"vincent_test\",\"facility_id\":1574,\"model\":\"priva\",\"created_at\":\"2021-03-01T19:44:58.558Z\",\"visible\":true,\"status\":\"active\",\"device_id\":null,\"string\":null,\"slug\":\"vincent-test\"},\"relationships\":{\"metrics\":{\"meta\":{\"included\":false}},\"sensor_data\":{\"meta\":{\"included\":false}}}}],\"jsonapi\":{\"version\":\"1.0\"}}'"
      ]
     },
     "execution_count": null,
     "metadata": {},
     "output_type": "execute_result"
    }
   ],
   "source": [
    "response.content"
   ]
  },
  {
   "cell_type": "code",
   "execution_count": null,
   "metadata": {},
   "outputs": [],
   "source": [
    "response = sensors.get(facility_id=1574, sensor_id=5637)"
   ]
  },
  {
   "cell_type": "code",
   "execution_count": null,
   "metadata": {},
   "outputs": [
    {
     "data": {
      "text/plain": [
       "b'{\"data\":{\"id\":\"5637\",\"type\":\"sensors\",\"attributes\":{\"id\":5637,\"name\":\"vincent_test\",\"facility_id\":1574,\"model\":\"priva\",\"created_at\":\"2021-03-01T19:44:58.558Z\",\"visible\":true,\"status\":\"active\",\"device_id\":null,\"string\":null,\"slug\":\"vincent-test\"},\"relationships\":{\"metrics\":{\"meta\":{\"included\":false}},\"sensor_data\":{\"meta\":{\"included\":false}}}},\"jsonapi\":{\"version\":\"1.0\"}}'"
      ]
     },
     "execution_count": null,
     "metadata": {},
     "output_type": "execute_result"
    }
   ],
   "source": [
    "response.content"
   ]
  },
  {
   "cell_type": "code",
   "execution_count": null,
   "metadata": {},
   "outputs": [],
   "source": [
    "response = sensors.delete(facility_id=1574, sensor_id=5637)"
   ]
  },
  {
   "cell_type": "code",
   "execution_count": null,
   "metadata": {},
   "outputs": [
    {
     "data": {
      "text/plain": [
       "b'{\"data\":{\"id\":\"5637\",\"type\":\"sensors\",\"attributes\":{\"id\":5637,\"name\":\"vincent_test\",\"facility_id\":1574,\"model\":\"priva\",\"created_at\":\"2021-03-01T19:44:58.558Z\",\"visible\":true,\"status\":\"removed\",\"device_id\":null,\"string\":null,\"slug\":\"vincent-test\"},\"relationships\":{\"metrics\":{\"meta\":{\"included\":false}},\"sensor_data\":{\"meta\":{\"included\":false}}}},\"jsonapi\":{\"version\":\"1.0\"}}'"
      ]
     },
     "execution_count": null,
     "metadata": {},
     "output_type": "execute_result"
    }
   ],
   "source": [
    "response.content"
   ]
  },
  {
   "cell_type": "code",
   "execution_count": null,
   "metadata": {},
   "outputs": [],
   "source": [
    "response = sensors.get_all(1574)"
   ]
  },
  {
   "cell_type": "code",
   "execution_count": null,
   "metadata": {},
   "outputs": [
    {
     "data": {
      "text/plain": [
       "b'{\"data\":[{\"id\":\"5638\",\"type\":\"sensors\",\"attributes\":{\"id\":5638,\"name\":\"vincent_test_2\",\"facility_id\":1574,\"model\":\"priva\",\"created_at\":\"2021-03-01T20:27:33.274Z\",\"visible\":true,\"status\":\"active\",\"device_id\":null,\"string\":null,\"slug\":\"vincent-test-2\"},\"relationships\":{\"metrics\":{\"meta\":{\"included\":false}},\"sensor_data\":{\"meta\":{\"included\":false}}}}],\"jsonapi\":{\"version\":\"1.0\"}}'"
      ]
     },
     "execution_count": null,
     "metadata": {},
     "output_type": "execute_result"
    }
   ],
   "source": [
    "response.content"
   ]
  },
  {
   "cell_type": "code",
   "execution_count": null,
   "metadata": {},
   "outputs": [],
   "source": [
    "response = sensors.delete(facility_id=1574, sensor_id=5638)"
   ]
  },
  {
   "cell_type": "code",
   "execution_count": null,
   "metadata": {},
   "outputs": [
    {
     "data": {
      "text/plain": [
       "b'{\"data\":{\"id\":\"5638\",\"type\":\"sensors\",\"attributes\":{\"id\":5638,\"name\":\"vincent_test_2\",\"facility_id\":1574,\"model\":\"priva\",\"created_at\":\"2021-03-01T20:27:33.274Z\",\"visible\":true,\"status\":\"removed\",\"device_id\":null,\"string\":null,\"slug\":\"vincent-test-2\"},\"relationships\":{\"metrics\":{\"meta\":{\"included\":false}},\"sensor_data\":{\"meta\":{\"included\":false}}}},\"jsonapi\":{\"version\":\"1.0\"}}'"
      ]
     },
     "execution_count": null,
     "metadata": {},
     "output_type": "execute_result"
    }
   ],
   "source": [
    "response.content"
   ]
  },
  {
   "cell_type": "code",
   "execution_count": null,
   "metadata": {},
   "outputs": [],
   "source": [
    "response = sensors.get_all(1574)"
   ]
  },
  {
   "cell_type": "code",
   "execution_count": null,
   "metadata": {},
   "outputs": [
    {
     "data": {
      "text/plain": [
       "b'{\"data\":[],\"jsonapi\":{\"version\":\"1.0\"}}'"
      ]
     },
     "execution_count": null,
     "metadata": {},
     "output_type": "execute_result"
    }
   ],
   "source": [
    "response.content"
   ]
  },
  {
   "cell_type": "code",
   "execution_count": null,
   "metadata": {},
   "outputs": [],
   "source": []
  }
 ],
 "metadata": {
  "kernelspec": {
   "display_name": "Python [conda env:nbdev]",
   "language": "python",
   "name": "conda-env-nbdev-py"
  }
 },
 "nbformat": 4,
 "nbformat_minor": 2
}
