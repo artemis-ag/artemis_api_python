{
 "cells": [
  {
   "cell_type": "code",
   "execution_count": null,
   "metadata": {},
   "outputs": [],
   "source": [
    "# default_exp subscriptions"
   ]
  },
  {
   "cell_type": "code",
   "execution_count": null,
   "metadata": {},
   "outputs": [],
   "source": [
    "#hide\n",
    "%load_ext autoreload\n",
    "%autoreload 2"
   ]
  },
  {
   "cell_type": "markdown",
   "metadata": {},
   "source": [
    "# Subscriptions\n",
    "> Artemis Notifications Subscriptions entity implementation to use the associated subscriptions API endpoints."
   ]
  },
  {
   "cell_type": "code",
   "execution_count": null,
   "metadata": {},
   "outputs": [],
   "source": [
    "#hide\n",
    "from nbdev.showdoc import *\n",
    "from artemis_api_python.client import *\n",
    "from artemis_api_python.tanks import *"
   ]
  },
  {
   "cell_type": "code",
   "execution_count": null,
   "metadata": {},
   "outputs": [
    {
     "data": {
      "text/plain": [
       "True"
      ]
     },
     "execution_count": null,
     "metadata": {},
     "output_type": "execute_result"
    }
   ],
   "source": [
    "#hide\n",
    "from dotenv import load_dotenv\n",
    "load_dotenv(dotenv_path='.env')"
   ]
  },
  {
   "cell_type": "code",
   "execution_count": null,
   "metadata": {},
   "outputs": [],
   "source": [
    "#export\n",
    "import json"
   ]
  },
  {
   "cell_type": "code",
   "execution_count": null,
   "metadata": {},
   "outputs": [],
   "source": [
    "#export\n",
    "class Subscriptions:\n",
    "    \"`Artemis API` (notifications) Subscriptions entity object\"\n",
    "    def __init__(self, client): \n",
    "        self.client = client\n",
    "        self.response = None\n",
    "    \n",
    "    def find(self, subscription_id):\n",
    "        \"Retrieves a specific notification subscription\"\n",
    "        self.response = self.client.get(f'/subscriptions/{subscription_id}')\n",
    "        return self.client.response_handler(self.response)\n",
    "    \n",
    "    def find_all(self):\n",
    "        \"Retrieves a list of notification subscriptions for the current user and OAuth application\"\n",
    "        self.response = self.client.get(f'/subscriptions')\n",
    "        return self.client.response_handler(self.response)\n",
    "    \n",
    "    def create(self, attributes):\n",
    "        \"Creates a new notification subscription\"\n",
    "        data = {}\n",
    "        body = {}\n",
    "        data['type'] = \"subscriptions\"\n",
    "        data['attributes'] = attributes\n",
    "        body['_jsonapi'] = {}\n",
    "        body['_jsonapi']['data'] = data\n",
    "        self.response = self.client.post(f'/subscriptions', json.dumps(body))\n",
    "        return self.client.response_handler(self.response, body)\n",
    "    \n",
    "    def remove(self, subscription_id):\n",
    "        \"Deletes a specific subscription\"\n",
    "        self.response = self.client.delete(f'/subscriptions/{subscription_id}')\n",
    "        return self.client.response_handler(self.response)"
   ]
  },
  {
   "cell_type": "code",
   "execution_count": null,
   "metadata": {},
   "outputs": [],
   "source": [
    "#hide\n",
    "client = APIClient(auth_code=\"YOUR_AUTHORIZATION_CODE\", automatic_refresh=False)"
   ]
  },
  {
   "cell_type": "code",
   "execution_count": null,
   "metadata": {},
   "outputs": [
    {
     "data": {
      "text/markdown": [
       "<h4 id=\"Subscriptions.find_all\" class=\"doc_header\"><code>Subscriptions.find_all</code><a href=\"__main__.py#L13\" class=\"source_link\" style=\"float:right\">[source]</a></h4>\n",
       "\n",
       "> <code>Subscriptions.find_all</code>()\n",
       "\n",
       "Retrieves a list of notification subscriptions for the current user and OAuth application"
      ],
      "text/plain": [
       "<IPython.core.display.Markdown object>"
      ]
     },
     "metadata": {},
     "output_type": "display_data"
    }
   ],
   "source": [
    "show_doc(Subscriptions.find_all)"
   ]
  },
  {
   "cell_type": "code",
   "execution_count": null,
   "metadata": {},
   "outputs": [],
   "source": [
    "subscriptions_object = Subscriptions(client)"
   ]
  },
  {
   "cell_type": "code",
   "execution_count": null,
   "metadata": {},
   "outputs": [
    {
     "data": {
      "text/plain": [
       "[]"
      ]
     },
     "execution_count": null,
     "metadata": {},
     "output_type": "execute_result"
    }
   ],
   "source": [
    "subscriptions_object.find_all()"
   ]
  },
  {
   "cell_type": "code",
   "execution_count": null,
   "metadata": {},
   "outputs": [
    {
     "data": {
      "text/markdown": [
       "<h4 id=\"Subscriptions.find\" class=\"doc_header\"><code>Subscriptions.find</code><a href=\"__main__.py#L8\" class=\"source_link\" style=\"float:right\">[source]</a></h4>\n",
       "\n",
       "> <code>Subscriptions.find</code>(**`subscription_id`**)\n",
       "\n",
       "Retrieves a specific notification subscription"
      ],
      "text/plain": [
       "<IPython.core.display.Markdown object>"
      ]
     },
     "metadata": {},
     "output_type": "display_data"
    }
   ],
   "source": [
    "show_doc(Subscriptions.find)"
   ]
  },
  {
   "cell_type": "markdown",
   "metadata": {},
   "source": [
    "Let's find subscriptions with `id=1`"
   ]
  },
  {
   "cell_type": "code",
   "execution_count": null,
   "metadata": {},
   "outputs": [
    {
     "data": {
      "text/plain": [
       "{'id': '1',\n",
       " 'type': 'subscriptions',\n",
       " 'attributes': {'id': 1,\n",
       "  'subject': 'data_requests',\n",
       "  'destination': 'https://rfwccqhlgj.execute-api.us-west-2.amazonaws.com/api/data'},\n",
       " 'relationships': {'facility': {'data': {'id': '', 'type': 'facilities'}}}}"
      ]
     },
     "execution_count": null,
     "metadata": {},
     "output_type": "execute_result"
    }
   ],
   "source": [
    "subscription = subscriptions_object.find(subscription_id=1)\n",
    "subscription"
   ]
  },
  {
   "cell_type": "code",
   "execution_count": null,
   "metadata": {},
   "outputs": [
    {
     "data": {
      "text/markdown": [
       "<h4 id=\"Subscriptions.create\" class=\"doc_header\"><code>Subscriptions.create</code><a href=\"__main__.py#L18\" class=\"source_link\" style=\"float:right\">[source]</a></h4>\n",
       "\n",
       "> <code>Subscriptions.create</code>(**`attributes`**)\n",
       "\n",
       "Creates a new notification subscription"
      ],
      "text/plain": [
       "<IPython.core.display.Markdown object>"
      ]
     },
     "metadata": {},
     "output_type": "display_data"
    }
   ],
   "source": [
    "show_doc(Subscriptions.create)"
   ]
  },
  {
   "cell_type": "markdown",
   "metadata": {},
   "source": [
    "Let's create a notifications subscription"
   ]
  },
  {
   "cell_type": "code",
   "execution_count": null,
   "metadata": {},
   "outputs": [],
   "source": [
    "attributes = {\n",
    "    \"subject\": \"completions\",\n",
    "    \"facility_id\": \"1\",\n",
    "    \"destination\": \"https://example.com/callbacks/Artemis/CompletionPosted\"}"
   ]
  },
  {
   "cell_type": "code",
   "execution_count": null,
   "metadata": {},
   "outputs": [
    {
     "data": {
      "text/plain": [
       "{'id': '4',\n",
       " 'type': 'subscriptions',\n",
       " 'attributes': {'id': 4,\n",
       "  'subject': 'completions',\n",
       "  'destination': 'https://example.com/callbacks/Artemis/CompletionPosted'},\n",
       " 'relationships': {'facility': {'data': {'id': '1', 'type': 'facilities'}}}}"
      ]
     },
     "execution_count": null,
     "metadata": {},
     "output_type": "execute_result"
    }
   ],
   "source": [
    "subscriptions_object.create(attributes=attributes)\n"
   ]
  },
  {
   "cell_type": "code",
   "execution_count": null,
   "metadata": {},
   "outputs": [
    {
     "data": {
      "text/plain": [
       "[{'id': '4',\n",
       "  'type': 'subscriptions',\n",
       "  'attributes': {'id': 4,\n",
       "   'subject': 'completions',\n",
       "   'destination': 'https://example.com/callbacks/Artemis/CompletionPosted'},\n",
       "  'relationships': {'facility': {'data': {'id': '1', 'type': 'facilities'}}}}]"
      ]
     },
     "execution_count": null,
     "metadata": {},
     "output_type": "execute_result"
    }
   ],
   "source": [
    "subscriptions_object.find_all()"
   ]
  },
  {
   "cell_type": "markdown",
   "metadata": {},
   "source": [
    "Let's delete subscription `id=2`"
   ]
  },
  {
   "cell_type": "code",
   "execution_count": null,
   "metadata": {},
   "outputs": [
    {
     "data": {
      "text/markdown": [
       "<h4 id=\"Subscriptions.remove\" class=\"doc_header\"><code>Subscriptions.remove</code><a href=\"__main__.py#L29\" class=\"source_link\" style=\"float:right\">[source]</a></h4>\n",
       "\n",
       "> <code>Subscriptions.remove</code>(**`subscription_id`**)\n",
       "\n",
       "Deletes a specific subscription"
      ],
      "text/plain": [
       "<IPython.core.display.Markdown object>"
      ]
     },
     "metadata": {},
     "output_type": "display_data"
    }
   ],
   "source": [
    "show_doc(Subscriptions.remove)"
   ]
  },
  {
   "cell_type": "code",
   "execution_count": null,
   "metadata": {},
   "outputs": [],
   "source": [
    "subscriptions_object.remove(subscription_id=2)"
   ]
  },
  {
   "cell_type": "code",
   "execution_count": null,
   "metadata": {},
   "outputs": [],
   "source": []
  }
 ],
 "metadata": {
  "kernelspec": {
   "display_name": "Python [conda env:nbdev]",
   "language": "python",
   "name": "conda-env-nbdev-py"
  }
 },
 "nbformat": 4,
 "nbformat_minor": 4
}
