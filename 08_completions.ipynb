{
 "cells": [
  {
   "cell_type": "code",
   "execution_count": null,
   "metadata": {},
   "outputs": [],
   "source": [
    "# default_exp completions"
   ]
  },
  {
   "cell_type": "code",
   "execution_count": null,
   "metadata": {},
   "outputs": [
    {
     "name": "stdout",
     "output_type": "stream",
     "text": [
      "The autoreload extension is already loaded. To reload it, use:\n",
      "  %reload_ext autoreload\n"
     ]
    }
   ],
   "source": [
    "#hide\n",
    "%load_ext autoreload\n",
    "%autoreload 2"
   ]
  },
  {
   "cell_type": "markdown",
   "metadata": {},
   "source": [
    "# Completions\n",
    "> Artemis Completions entity implementation to use the associated completions API endpoints."
   ]
  },
  {
   "cell_type": "code",
   "execution_count": null,
   "metadata": {},
   "outputs": [],
   "source": [
    "#hide\n",
    "from nbdev.showdoc import *\n",
    "from artemis_api_python.client import *\n",
    "from artemis_api_python.tanks import *"
   ]
  },
  {
   "cell_type": "code",
   "execution_count": null,
   "metadata": {},
   "outputs": [
    {
     "data": {
      "text/plain": [
       "True"
      ]
     },
     "execution_count": null,
     "metadata": {},
     "output_type": "execute_result"
    }
   ],
   "source": [
    "#hide\n",
    "from dotenv import load_dotenv\n",
    "load_dotenv(dotenv_path='.env')"
   ]
  },
  {
   "cell_type": "code",
   "execution_count": null,
   "metadata": {},
   "outputs": [],
   "source": [
    "#export\n",
    "import json"
   ]
  },
  {
   "cell_type": "code",
   "execution_count": null,
   "metadata": {},
   "outputs": [],
   "source": [
    "#export\n",
    "class Completions:\n",
    "    \"`Artemis API` Completions entity object\"\n",
    "    def __init__(self, client): \n",
    "        self.client = client\n",
    "        self.response = None\n",
    "    \n",
    "    def find(self, facility_id, completion_id):\n",
    "        \"Retrieves a specific batch completion\"\n",
    "        self.response = self.client.get(f'/facilities/{facility_id}/completions/{completion_id}')\n",
    "        return self.client.response_handler(self.response)\n",
    "    \n",
    "    def find_specific(self, facility_id, filters=[]):\n",
    "        \"Retrieves a  list of batch completions matching a specific criteria\"\n",
    "        filters_string = self.client.format_filters(filters)\n",
    "        self.response = self.client.get(f'/facilities/{facility_id}/completions?{filters_string}')\n",
    "        return self.client.response_handler(self.response)\n",
    "    \n",
    "    def create(self, facility_id, attributes, relationships=None):\n",
    "        \"Creates a new completion\"\n",
    "        data = {}\n",
    "        body = {}\n",
    "        data['type'] = \"completions\"\n",
    "        data['attributes'] = attributes\n",
    "        if relationships is not None:\n",
    "            data['relationships'] = relationships\n",
    "        body['facility_id'] = facility_id\n",
    "        body['_jsonapi'] = {}\n",
    "        body['_jsonapi']['data'] = data\n",
    "        self.response = self.client.post(f'/facilities/{facility_id}/completions', json.dumps(body))\n",
    "        return self.client.response_handler(self.response, body)\n",
    "    \n",
    "    def remove(self, facility_id, completion_id):\n",
    "        \"Deletes a specific completion\"\n",
    "        self.response = self.client.delete(f'/facilities/{facility_id}/completions/{completion_id}')\n",
    "        return self.client.response_handler(self.response)"
   ]
  },
  {
   "cell_type": "code",
   "execution_count": null,
   "metadata": {},
   "outputs": [],
   "source": [
    "#hide\n",
    "client = APIClient(auth_code=\"YOUR_AUTHORIZATION_CODE\", automatic_refresh=False)"
   ]
  },
  {
   "cell_type": "code",
   "execution_count": null,
   "metadata": {},
   "outputs": [
    {
     "data": {
      "text/markdown": [
       "<h4 id=\"Completions.find\" class=\"doc_header\"><code>Completions.find</code><a href=\"__main__.py#L8\" class=\"source_link\" style=\"float:right\">[source]</a></h4>\n",
       "\n",
       "> <code>Completions.find</code>(**`facility_id`**, **`completion_id`**)\n",
       "\n",
       "Retrieves a specific batch completion"
      ],
      "text/plain": [
       "<IPython.core.display.Markdown object>"
      ]
     },
     "metadata": {},
     "output_type": "display_data"
    }
   ],
   "source": [
    "show_doc(Completions.find)"
   ]
  },
  {
   "cell_type": "markdown",
   "metadata": {},
   "source": [
    "Let's find completions with `id=1`"
   ]
  },
  {
   "cell_type": "code",
   "execution_count": null,
   "metadata": {},
   "outputs": [],
   "source": [
    "completions_object = Completions(client)"
   ]
  },
  {
   "cell_type": "code",
   "execution_count": null,
   "metadata": {},
   "outputs": [
    {
     "data": {
      "text/plain": [
       "{'id': '1',\n",
       " 'type': 'completions',\n",
       " 'attributes': {'id': 1,\n",
       "  'status': 'active',\n",
       "  'user_id': 12,\n",
       "  'content': None,\n",
       "  'start_time': '2021-03-26T04:00:00.000Z',\n",
       "  'end_time': '2021-03-26T04:00:00.000Z',\n",
       "  'occurrence': 0,\n",
       "  'action_type': 'batch',\n",
       "  'parent_id': None,\n",
       "  'context': {'source_batches': None},\n",
       "  'created_at': '2021-05-18T11:22:41.122Z',\n",
       "  'options': {'zone_id': 7,\n",
       "   'quantity': 1,\n",
       "   'growth_cycle_id': 1,\n",
       "   'seeding_unit_id': 6}},\n",
       " 'relationships': {'crop_batch_state': {'meta': {'included': False}},\n",
       "  'action_result': {'data': {'id': 1, 'type': 'CropBatch'}},\n",
       "  'batch': {'data': {'id': '1', 'type': 'batches'}},\n",
       "  'facility': {'data': {'id': 1, 'type': 'facilities'}},\n",
       "  'user': {'data': {'id': 12, 'type': 'users'}}}}"
      ]
     },
     "execution_count": null,
     "metadata": {},
     "output_type": "execute_result"
    }
   ],
   "source": [
    "completion = completions_object.find(facility_id=1, completion_id=1)\n",
    "completion"
   ]
  },
  {
   "cell_type": "code",
   "execution_count": null,
   "metadata": {},
   "outputs": [
    {
     "data": {
      "text/markdown": [
       "<h4 id=\"Completions.find_specific\" class=\"doc_header\"><code>Completions.find_specific</code><a href=\"__main__.py#L13\" class=\"source_link\" style=\"float:right\">[source]</a></h4>\n",
       "\n",
       "> <code>Completions.find_specific</code>(**`facility_id`**, **`filters`**=*`[]`*)\n",
       "\n",
       "Retrieves a  list of batch completions matching a specific criteria"
      ],
      "text/plain": [
       "<IPython.core.display.Markdown object>"
      ]
     },
     "metadata": {},
     "output_type": "display_data"
    }
   ],
   "source": [
    "show_doc(Completions.find_specific)"
   ]
  },
  {
   "cell_type": "markdown",
   "metadata": {},
   "source": [
    "Let's find specific completions for facility_id=1"
   ]
  },
  {
   "cell_type": "code",
   "execution_count": null,
   "metadata": {},
   "outputs": [],
   "source": [
    "filters = [{'crop_batch_ids':1}, {'crop_batch_ids':2}]"
   ]
  },
  {
   "cell_type": "code",
   "execution_count": null,
   "metadata": {},
   "outputs": [
    {
     "data": {
      "text/plain": [
       "[{'id': '1',\n",
       "  'type': 'completions',\n",
       "  'attributes': {'id': 1,\n",
       "   'status': 'active',\n",
       "   'user_id': 12,\n",
       "   'content': None,\n",
       "   'start_time': '2021-03-26T04:00:00.000Z',\n",
       "   'end_time': '2021-03-26T04:00:00.000Z',\n",
       "   'occurrence': 0,\n",
       "   'action_type': 'batch',\n",
       "   'parent_id': None,\n",
       "   'context': {'source_batches': None},\n",
       "   'created_at': '2021-05-18T11:22:41.122Z',\n",
       "   'options': {'zone_id': 7,\n",
       "    'quantity': 1,\n",
       "    'growth_cycle_id': 1,\n",
       "    'seeding_unit_id': 6}},\n",
       "  'relationships': {'crop_batch_state': {'meta': {'included': False}},\n",
       "   'action_result': {'data': {'id': 1, 'type': 'CropBatch'}},\n",
       "   'batch': {'data': {'id': '1', 'type': 'batches'}},\n",
       "   'facility': {'data': {'id': 1, 'type': 'facilities'}},\n",
       "   'user': {'data': {'id': 12, 'type': 'users'}}}},\n",
       " {'id': '2',\n",
       "  'type': 'completions',\n",
       "  'attributes': {'id': 2,\n",
       "   'status': 'active',\n",
       "   'user_id': 12,\n",
       "   'content': None,\n",
       "   'start_time': '2021-03-26T04:00:00.000Z',\n",
       "   'end_time': '2021-03-26T04:00:00.000Z',\n",
       "   'occurrence': 0,\n",
       "   'action_type': 'start',\n",
       "   'parent_id': 1,\n",
       "   'context': {'source_batches': None},\n",
       "   'created_at': '2021-05-18T11:22:41.183Z',\n",
       "   'options': {'zone_id': 7,\n",
       "    'quantity': 1,\n",
       "    'seeding_unit_id': 6,\n",
       "    'zone_name': 'Storage'}},\n",
       "  'relationships': {'crop_batch_state': {'meta': {'included': False}},\n",
       "   'action_result': {'meta': {'included': False}},\n",
       "   'batch': {'data': {'id': '1', 'type': 'batches'}},\n",
       "   'facility': {'data': {'id': 1, 'type': 'facilities'}},\n",
       "   'user': {'data': {'id': 12, 'type': 'users'}}}},\n",
       " {'id': '3',\n",
       "  'type': 'completions',\n",
       "  'attributes': {'id': 3,\n",
       "   'status': 'active',\n",
       "   'user_id': 12,\n",
       "   'content': None,\n",
       "   'start_time': '2021-03-27T04:00:00.000Z',\n",
       "   'end_time': '2021-03-27T04:00:00.000Z',\n",
       "   'occurrence': 0,\n",
       "   'action_type': 'harvest',\n",
       "   'parent_id': None,\n",
       "   'context': {'source_batches': None},\n",
       "   'created_at': '2021-05-18T11:22:41.393Z',\n",
       "   'options': {'resources': [{'resource_unit_id': 5,\n",
       "      'generated_quantity': 100}],\n",
       "    'harvest_type': 'complete',\n",
       "    'calculated_quantity': 1.0,\n",
       "    'zone_name': 'Storage'}},\n",
       "  'relationships': {'crop_batch_state': {'meta': {'included': False}},\n",
       "   'action_result': {'meta': {'included': False}},\n",
       "   'batch': {'data': {'id': '1', 'type': 'batches'}},\n",
       "   'facility': {'data': {'id': 1, 'type': 'facilities'}},\n",
       "   'user': {'data': {'id': 12, 'type': 'users'}}}},\n",
       " {'id': '4',\n",
       "  'type': 'completions',\n",
       "  'attributes': {'id': 4,\n",
       "   'status': 'active',\n",
       "   'user_id': 12,\n",
       "   'content': {'crop_batch_item_ids': []},\n",
       "   'start_time': '2021-03-27T04:00:00.000Z',\n",
       "   'end_time': '2021-03-27T04:00:00.000Z',\n",
       "   'occurrence': 0,\n",
       "   'action_type': 'generate',\n",
       "   'parent_id': 3,\n",
       "   'context': {'source_batches': None},\n",
       "   'created_at': '2021-05-18T11:22:41.458Z',\n",
       "   'options': {'resource_unit_id': 5,\n",
       "    'generated_quantity': 100,\n",
       "    'zone_name': 'Storage'}},\n",
       "  'relationships': {'crop_batch_state': {'meta': {'included': False}},\n",
       "   'action_result': {'data': {'id': 1, 'type': 'BatchResource'}},\n",
       "   'batch': {'data': {'id': '1', 'type': 'batches'}},\n",
       "   'facility': {'data': {'id': 1, 'type': 'facilities'}},\n",
       "   'user': {'data': {'id': 12, 'type': 'users'}}}},\n",
       " {'id': '5',\n",
       "  'type': 'completions',\n",
       "  'attributes': {'id': 5,\n",
       "   'status': 'active',\n",
       "   'user_id': 12,\n",
       "   'content': None,\n",
       "   'start_time': '2021-03-29T04:00:00.000Z',\n",
       "   'end_time': '2021-03-29T04:00:00.000Z',\n",
       "   'occurrence': 0,\n",
       "   'action_type': 'batch',\n",
       "   'parent_id': None,\n",
       "   'context': {'source_batches': None},\n",
       "   'created_at': '2021-05-18T11:22:41.703Z',\n",
       "   'options': {'zone_id': 7,\n",
       "    'quantity': 1,\n",
       "    'growth_cycle_id': 1,\n",
       "    'seeding_unit_id': 6}},\n",
       "  'relationships': {'crop_batch_state': {'meta': {'included': False}},\n",
       "   'action_result': {'data': {'id': 2, 'type': 'CropBatch'}},\n",
       "   'batch': {'data': {'id': '2', 'type': 'batches'}},\n",
       "   'facility': {'data': {'id': 1, 'type': 'facilities'}},\n",
       "   'user': {'data': {'id': 12, 'type': 'users'}}}},\n",
       " {'id': '6',\n",
       "  'type': 'completions',\n",
       "  'attributes': {'id': 6,\n",
       "   'status': 'active',\n",
       "   'user_id': 12,\n",
       "   'content': None,\n",
       "   'start_time': '2021-03-29T04:00:00.000Z',\n",
       "   'end_time': '2021-03-29T04:00:00.000Z',\n",
       "   'occurrence': 0,\n",
       "   'action_type': 'start',\n",
       "   'parent_id': 5,\n",
       "   'context': {'source_batches': None},\n",
       "   'created_at': '2021-05-18T11:22:41.726Z',\n",
       "   'options': {'zone_id': 7,\n",
       "    'quantity': 1,\n",
       "    'seeding_unit_id': 6,\n",
       "    'zone_name': 'Storage'}},\n",
       "  'relationships': {'crop_batch_state': {'meta': {'included': False}},\n",
       "   'action_result': {'meta': {'included': False}},\n",
       "   'batch': {'data': {'id': '2', 'type': 'batches'}},\n",
       "   'facility': {'data': {'id': 1, 'type': 'facilities'}},\n",
       "   'user': {'data': {'id': 12, 'type': 'users'}}}},\n",
       " {'id': '7',\n",
       "  'type': 'completions',\n",
       "  'attributes': {'id': 7,\n",
       "   'status': 'active',\n",
       "   'user_id': 12,\n",
       "   'content': None,\n",
       "   'start_time': '2021-03-30T04:00:00.000Z',\n",
       "   'end_time': '2021-03-30T04:00:00.000Z',\n",
       "   'occurrence': 0,\n",
       "   'action_type': 'harvest',\n",
       "   'parent_id': None,\n",
       "   'context': {'source_batches': None},\n",
       "   'created_at': '2021-05-18T11:22:41.879Z',\n",
       "   'options': {'resources': [{'resource_unit_id': 5,\n",
       "      'generated_quantity': 100}],\n",
       "    'harvest_type': 'complete',\n",
       "    'calculated_quantity': 1.0,\n",
       "    'zone_name': 'Storage'}},\n",
       "  'relationships': {'crop_batch_state': {'meta': {'included': False}},\n",
       "   'action_result': {'meta': {'included': False}},\n",
       "   'batch': {'data': {'id': '2', 'type': 'batches'}},\n",
       "   'facility': {'data': {'id': 1, 'type': 'facilities'}},\n",
       "   'user': {'data': {'id': 12, 'type': 'users'}}}},\n",
       " {'id': '8',\n",
       "  'type': 'completions',\n",
       "  'attributes': {'id': 8,\n",
       "   'status': 'active',\n",
       "   'user_id': 12,\n",
       "   'content': {'crop_batch_item_ids': []},\n",
       "   'start_time': '2021-03-30T04:00:00.000Z',\n",
       "   'end_time': '2021-03-30T04:00:00.000Z',\n",
       "   'occurrence': 0,\n",
       "   'action_type': 'generate',\n",
       "   'parent_id': 7,\n",
       "   'context': {'source_batches': None},\n",
       "   'created_at': '2021-05-18T11:22:41.922Z',\n",
       "   'options': {'resource_unit_id': 5,\n",
       "    'generated_quantity': 100,\n",
       "    'zone_name': 'Storage'}},\n",
       "  'relationships': {'crop_batch_state': {'meta': {'included': False}},\n",
       "   'action_result': {'data': {'id': 2, 'type': 'BatchResource'}},\n",
       "   'batch': {'data': {'id': '2', 'type': 'batches'}},\n",
       "   'facility': {'data': {'id': 1, 'type': 'facilities'}},\n",
       "   'user': {'data': {'id': 12, 'type': 'users'}}}}]"
      ]
     },
     "execution_count": null,
     "metadata": {},
     "output_type": "execute_result"
    }
   ],
   "source": [
    "specific_completions = completions_object.find_specific(facility_id=1, filters=filters)\n",
    "specific_completions"
   ]
  },
  {
   "cell_type": "code",
   "execution_count": null,
   "metadata": {},
   "outputs": [
    {
     "data": {
      "text/markdown": [
       "<h4 id=\"Completions.create\" class=\"doc_header\"><code>Completions.create</code><a href=\"__main__.py#L19\" class=\"source_link\" style=\"float:right\">[source]</a></h4>\n",
       "\n",
       "> <code>Completions.create</code>(**`facility_id`**, **`attributes`**, **`relationships`**=*`None`*)\n",
       "\n",
       "Creates a new completion"
      ],
      "text/plain": [
       "<IPython.core.display.Markdown object>"
      ]
     },
     "metadata": {},
     "output_type": "display_data"
    }
   ],
   "source": [
    "show_doc(Completions.create)"
   ]
  },
  {
   "cell_type": "markdown",
   "metadata": {},
   "source": [
    "Let's create a completion"
   ]
  },
  {
   "cell_type": "code",
   "execution_count": null,
   "metadata": {},
   "outputs": [
    {
     "data": {
      "text/plain": [
       "{'id': '566',\n",
       " 'type': 'completions',\n",
       " 'attributes': {'id': 566,\n",
       "  'status': 'active',\n",
       "  'user_id': 2,\n",
       "  'content': None,\n",
       "  'start_time': '2021-05-17T04:00:00.000Z',\n",
       "  'end_time': '2021-05-17T04:00:00.000Z',\n",
       "  'occurrence': 0,\n",
       "  'action_type': 'harvest',\n",
       "  'parent_id': None,\n",
       "  'context': {'source_batches': None},\n",
       "  'created_at': '2021-05-18T15:58:13.521Z',\n",
       "  'options': {'quantity': 0,\n",
       "   'resources': [{'resource_unit_id': 5, 'generated_quantity': 10}],\n",
       "   'calculated_quantity': 0.0,\n",
       "   'zone_name': 'Packing Room'}},\n",
       " 'relationships': {'crop_batch_state': {'meta': {'included': False}},\n",
       "  'action_result': {'meta': {'included': False}},\n",
       "  'batch': {'data': {'id': '110', 'type': 'batches'}},\n",
       "  'facility': {'data': {'id': 1, 'type': 'facilities'}},\n",
       "  'user': {'data': {'id': 2, 'type': 'users'}}}}"
      ]
     },
     "execution_count": null,
     "metadata": {},
     "output_type": "execute_result"
    }
   ],
   "source": [
    "resources = [{'generated_quantity':10, 'resource_unit_id':5}]\n",
    "attributes = {\n",
    "    \"action_type\": \"harvest\",\n",
    "    \"start_time\": \"2021-05-17T20:48:00.000Z\"\n",
    "}\n",
    "attributes[\"options\"] = {\n",
    "        \"quantity\": 0,\n",
    "        \"resources\": resources\n",
    "}\n",
    "relationships= {}\n",
    "relationships[\"batch\"] = {}\n",
    "relationships[\"batch\"][\"data\"] = {\n",
    "    \"id\": \"110\",\n",
    "    \"type\": \"batches\"}\n",
    "completions_object.create(facility_id=1, attributes=attributes, relationships=relationships)"
   ]
  },
  {
   "cell_type": "code",
   "execution_count": null,
   "metadata": {},
   "outputs": [
    {
     "data": {
      "text/markdown": [
       "<h4 id=\"Completions.remove\" class=\"doc_header\"><code>Completions.remove</code><a href=\"__main__.py#L46\" class=\"source_link\" style=\"float:right\">[source]</a></h4>\n",
       "\n",
       "> <code>Completions.remove</code>(**`facility_id`**, **`completion_id`**)\n",
       "\n",
       "Deletes a specific completion"
      ],
      "text/plain": [
       "<IPython.core.display.Markdown object>"
      ]
     },
     "metadata": {},
     "output_type": "display_data"
    }
   ],
   "source": [
    "show_doc(Completions.remove)"
   ]
  },
  {
   "cell_type": "markdown",
   "metadata": {},
   "source": [
    "We'll now delete the completion `id:566`"
   ]
  },
  {
   "cell_type": "code",
   "execution_count": null,
   "metadata": {},
   "outputs": [
    {
     "data": {
      "text/plain": [
       "{'id': '566',\n",
       " 'type': 'completions',\n",
       " 'attributes': {'id': 566,\n",
       "  'status': 'removed',\n",
       "  'user_id': 2,\n",
       "  'content': None,\n",
       "  'start_time': '2021-05-17T04:00:00.000Z',\n",
       "  'end_time': '2021-05-17T04:00:00.000Z',\n",
       "  'occurrence': 0,\n",
       "  'action_type': 'harvest',\n",
       "  'parent_id': None,\n",
       "  'context': {'source_batches': None},\n",
       "  'created_at': '2021-05-18T15:58:13.521Z',\n",
       "  'options': {'quantity': 0,\n",
       "   'resources': [{'resource_unit_id': 5, 'generated_quantity': 10}],\n",
       "   'calculated_quantity': 0.0,\n",
       "   'zone_name': 'Packing Room'}},\n",
       " 'relationships': {'crop_batch_state': {'meta': {'included': False}},\n",
       "  'action_result': {'meta': {'included': False}},\n",
       "  'batch': {'data': {'id': '110', 'type': 'batches'}},\n",
       "  'facility': {'data': {'id': 1, 'type': 'facilities'}},\n",
       "  'user': {'data': {'id': 2, 'type': 'users'}}}}"
      ]
     },
     "execution_count": null,
     "metadata": {},
     "output_type": "execute_result"
    }
   ],
   "source": [
    "completions_object.remove(facility_id=1, completion_id=566)"
   ]
  }
 ],
 "metadata": {
  "kernelspec": {
   "display_name": "Python [conda env:nbdev]",
   "language": "python",
   "name": "conda-env-nbdev-py"
  }
 },
 "nbformat": 4,
 "nbformat_minor": 4
}
