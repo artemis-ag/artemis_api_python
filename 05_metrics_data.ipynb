{
 "cells": [
  {
   "cell_type": "code",
   "execution_count": null,
   "metadata": {},
   "outputs": [],
   "source": [
    "# default_exp metrics_data"
   ]
  },
  {
   "cell_type": "code",
   "execution_count": null,
   "metadata": {},
   "outputs": [],
   "source": [
    "#hide\n",
    "%load_ext autoreload\n",
    "%autoreload 2"
   ]
  },
  {
   "cell_type": "markdown",
   "metadata": {},
   "source": [
    "# Metrics Data\n",
    "> Artemis Metrics Data entity implementation to use the associated metrics (non sensor related) data API endpoints."
   ]
  },
  {
   "cell_type": "code",
   "execution_count": null,
   "metadata": {},
   "outputs": [],
   "source": [
    "#hide\n",
    "from nbdev.showdoc import *\n",
    "from artemis_api_python.client import *\n",
    "from artemis_api_python.sensor import *\n",
    "from artemis_api_python.metric import *"
   ]
  },
  {
   "cell_type": "code",
   "execution_count": null,
   "metadata": {},
   "outputs": [
    {
     "data": {
      "text/plain": [
       "True"
      ]
     },
     "execution_count": null,
     "metadata": {},
     "output_type": "execute_result"
    }
   ],
   "source": [
    "#hide\n",
    "from dotenv import load_dotenv\n",
    "load_dotenv(dotenv_path='.env')"
   ]
  },
  {
   "cell_type": "code",
   "execution_count": null,
   "metadata": {},
   "outputs": [],
   "source": [
    "#export\n",
    "import json"
   ]
  },
  {
   "cell_type": "code",
   "execution_count": null,
   "metadata": {},
   "outputs": [],
   "source": [
    "#export\n",
    "class MetricsData:\n",
    "    \"`Artemis API` MetricsData entity object\"\n",
    "    def __init__(self, client): \n",
    "        self.client = client\n",
    "        self.response = None\n",
    "    \n",
    "    def find(self, facility_id, metric_id):\n",
    "        \"Retrieves a list of metrics data points for a specific metric\"\n",
    "        self.response = self.client.get(f'/facilities/{facility_id}/metrics/{metric_id}/data')\n",
    "        return self.client.response_handler(self.response)\n",
    "    \n",
    "    def create(self, facility_id, metric_id, attributes):\n",
    "        \"Creates a new metric data point for a specific metric\"\n",
    "        data = {}\n",
    "        body = {}\n",
    "        data['type'] = \"dots\"\n",
    "        data['attributes'] = attributes\n",
    "        body['facility_id'] = facility_id\n",
    "        body['metric_id'] = metric_id\n",
    "        body['_jsonapi'] = {}\n",
    "        body['_jsonapi']['data'] = data\n",
    "        self.response = self.client.post(f'/facilities/{facility_id}/metrics/{metric_id}/data', json.dumps(body))\n",
    "        return self.client.response_handler(self.response, body)\n",
    "    "
   ]
  },
  {
   "cell_type": "code",
   "execution_count": null,
   "metadata": {},
   "outputs": [
    {
     "data": {
      "text/markdown": [
       "<h4 id=\"MetricsData.find\" class=\"doc_header\"><code>MetricsData.find</code><a href=\"__main__.py#L8\" class=\"source_link\" style=\"float:right\">[source]</a></h4>\n",
       "\n",
       "> <code>MetricsData.find</code>(**`facility_id`**, **`metric_id`**)\n",
       "\n",
       "Retrieves a list of metrics data points for a specific metric"
      ],
      "text/plain": [
       "<IPython.core.display.Markdown object>"
      ]
     },
     "metadata": {},
     "output_type": "display_data"
    }
   ],
   "source": [
    "show_doc(MetricsData.find)"
   ]
  },
  {
   "cell_type": "code",
   "execution_count": null,
   "metadata": {},
   "outputs": [],
   "source": [
    "#hide\n",
    "client = APIClient(auth_code=\"your_auth_code\", automatic_refresh=False)"
   ]
  },
  {
   "cell_type": "markdown",
   "metadata": {},
   "source": [
    "Let's look for data points for the metric with `metric_id=13`"
   ]
  },
  {
   "cell_type": "code",
   "execution_count": null,
   "metadata": {},
   "outputs": [],
   "source": [
    "metric_data = MetricsData(client)"
   ]
  },
  {
   "cell_type": "code",
   "execution_count": null,
   "metadata": {},
   "outputs": [
    {
     "data": {
      "text/plain": [
       "[{'id': '2',\n",
       "  'type': 'data',\n",
       "  'attributes': {'id': 2, 'string_value': None, 'float_value': 6.6},\n",
       "  'relationships': {'metric': {'data': {'id': 13, 'type': 'metrics'}}},\n",
       "  'links': {'self': 'http://localhost:3000/facilities/1/kpis/13/dot/2'}},\n",
       " {'id': '3',\n",
       "  'type': 'data',\n",
       "  'attributes': {'id': 3, 'string_value': None, 'float_value': 6.5},\n",
       "  'relationships': {'metric': {'data': {'id': 13, 'type': 'metrics'}}},\n",
       "  'links': {'self': 'http://localhost:3000/facilities/1/kpis/13/dot/3'}},\n",
       " {'id': '4',\n",
       "  'type': 'data',\n",
       "  'attributes': {'id': 4, 'string_value': None, 'float_value': 7.2},\n",
       "  'relationships': {'metric': {'data': {'id': 13, 'type': 'metrics'}}},\n",
       "  'links': {'self': 'http://localhost:3000/facilities/1/kpis/13/dot/4'}},\n",
       " {'id': '5',\n",
       "  'type': 'data',\n",
       "  'attributes': {'id': 5, 'string_value': None, 'float_value': 5.0},\n",
       "  'relationships': {'metric': {'data': {'id': 13, 'type': 'metrics'}}},\n",
       "  'links': {'self': 'http://localhost:3000/facilities/1/kpis/13/dot/5'}},\n",
       " {'id': '6',\n",
       "  'type': 'data',\n",
       "  'attributes': {'id': 6, 'string_value': None, 'float_value': 5.3},\n",
       "  'relationships': {'metric': {'data': {'id': 13, 'type': 'metrics'}}},\n",
       "  'links': {'self': 'http://localhost:3000/facilities/1/kpis/13/dot/6'}},\n",
       " {'id': '7',\n",
       "  'type': 'data',\n",
       "  'attributes': {'id': 7, 'string_value': None, 'float_value': 7.5},\n",
       "  'relationships': {'metric': {'data': {'id': 13, 'type': 'metrics'}}},\n",
       "  'links': {'self': 'http://localhost:3000/facilities/1/kpis/13/dot/7'}},\n",
       " {'id': '8',\n",
       "  'type': 'data',\n",
       "  'attributes': {'id': 8, 'string_value': None, 'float_value': 7.5},\n",
       "  'relationships': {'metric': {'data': {'id': 13, 'type': 'metrics'}}},\n",
       "  'links': {'self': 'http://localhost:3000/facilities/1/kpis/13/dot/8'}},\n",
       " {'id': '9',\n",
       "  'type': 'data',\n",
       "  'attributes': {'id': 9, 'string_value': None, 'float_value': 7.7},\n",
       "  'relationships': {'metric': {'data': {'id': 13, 'type': 'metrics'}}},\n",
       "  'links': {'self': 'http://localhost:3000/facilities/1/kpis/13/dot/9'}},\n",
       " {'id': '10',\n",
       "  'type': 'data',\n",
       "  'attributes': {'id': 10, 'string_value': None, 'float_value': 7.9},\n",
       "  'relationships': {'metric': {'data': {'id': 13, 'type': 'metrics'}}},\n",
       "  'links': {'self': 'http://localhost:3000/facilities/1/kpis/13/dot/10'}},\n",
       " {'id': '11',\n",
       "  'type': 'data',\n",
       "  'attributes': {'id': 11, 'string_value': None, 'float_value': 6.7},\n",
       "  'relationships': {'metric': {'data': {'id': 13, 'type': 'metrics'}}},\n",
       "  'links': {'self': 'http://localhost:3000/facilities/1/kpis/13/dot/11'}},\n",
       " {'id': '12',\n",
       "  'type': 'data',\n",
       "  'attributes': {'id': 12, 'string_value': None, 'float_value': 5.3},\n",
       "  'relationships': {'metric': {'data': {'id': 13, 'type': 'metrics'}}},\n",
       "  'links': {'self': 'http://localhost:3000/facilities/1/kpis/13/dot/12'}},\n",
       " {'id': '13',\n",
       "  'type': 'data',\n",
       "  'attributes': {'id': 13, 'string_value': None, 'float_value': 8.0},\n",
       "  'relationships': {'metric': {'data': {'id': 13, 'type': 'metrics'}}},\n",
       "  'links': {'self': 'http://localhost:3000/facilities/1/kpis/13/dot/13'}},\n",
       " {'id': '14',\n",
       "  'type': 'data',\n",
       "  'attributes': {'id': 14, 'string_value': None, 'float_value': 6.4},\n",
       "  'relationships': {'metric': {'data': {'id': 13, 'type': 'metrics'}}},\n",
       "  'links': {'self': 'http://localhost:3000/facilities/1/kpis/13/dot/14'}},\n",
       " {'id': '15',\n",
       "  'type': 'data',\n",
       "  'attributes': {'id': 15, 'string_value': None, 'float_value': 7.1},\n",
       "  'relationships': {'metric': {'data': {'id': 13, 'type': 'metrics'}}},\n",
       "  'links': {'self': 'http://localhost:3000/facilities/1/kpis/13/dot/15'}},\n",
       " {'id': '16',\n",
       "  'type': 'data',\n",
       "  'attributes': {'id': 16, 'string_value': None, 'float_value': 7.5},\n",
       "  'relationships': {'metric': {'data': {'id': 13, 'type': 'metrics'}}},\n",
       "  'links': {'self': 'http://localhost:3000/facilities/1/kpis/13/dot/16'}},\n",
       " {'id': '17',\n",
       "  'type': 'data',\n",
       "  'attributes': {'id': 17, 'string_value': None, 'float_value': 6.8},\n",
       "  'relationships': {'metric': {'data': {'id': 13, 'type': 'metrics'}}},\n",
       "  'links': {'self': 'http://localhost:3000/facilities/1/kpis/13/dot/17'}},\n",
       " {'id': '18',\n",
       "  'type': 'data',\n",
       "  'attributes': {'id': 18, 'string_value': None, 'float_value': 6.7},\n",
       "  'relationships': {'metric': {'data': {'id': 13, 'type': 'metrics'}}},\n",
       "  'links': {'self': 'http://localhost:3000/facilities/1/kpis/13/dot/18'}},\n",
       " {'id': '19',\n",
       "  'type': 'data',\n",
       "  'attributes': {'id': 19, 'string_value': None, 'float_value': 6.1},\n",
       "  'relationships': {'metric': {'data': {'id': 13, 'type': 'metrics'}}},\n",
       "  'links': {'self': 'http://localhost:3000/facilities/1/kpis/13/dot/19'}},\n",
       " {'id': '20',\n",
       "  'type': 'data',\n",
       "  'attributes': {'id': 20, 'string_value': None, 'float_value': 7.1},\n",
       "  'relationships': {'metric': {'data': {'id': 13, 'type': 'metrics'}}},\n",
       "  'links': {'self': 'http://localhost:3000/facilities/1/kpis/13/dot/20'}},\n",
       " {'id': '21',\n",
       "  'type': 'data',\n",
       "  'attributes': {'id': 21, 'string_value': None, 'float_value': 7.4},\n",
       "  'relationships': {'metric': {'data': {'id': 13, 'type': 'metrics'}}},\n",
       "  'links': {'self': 'http://localhost:3000/facilities/1/kpis/13/dot/21'}},\n",
       " {'id': '22',\n",
       "  'type': 'data',\n",
       "  'attributes': {'id': 22, 'string_value': None, 'float_value': 7.8},\n",
       "  'relationships': {'metric': {'data': {'id': 13, 'type': 'metrics'}}},\n",
       "  'links': {'self': 'http://localhost:3000/facilities/1/kpis/13/dot/22'}},\n",
       " {'id': '23',\n",
       "  'type': 'data',\n",
       "  'attributes': {'id': 23, 'string_value': None, 'float_value': 5.0},\n",
       "  'relationships': {'metric': {'data': {'id': 13, 'type': 'metrics'}}},\n",
       "  'links': {'self': 'http://localhost:3000/facilities/1/kpis/13/dot/23'}},\n",
       " {'id': '24',\n",
       "  'type': 'data',\n",
       "  'attributes': {'id': 24, 'string_value': None, 'float_value': 7.2},\n",
       "  'relationships': {'metric': {'data': {'id': 13, 'type': 'metrics'}}},\n",
       "  'links': {'self': 'http://localhost:3000/facilities/1/kpis/13/dot/24'}},\n",
       " {'id': '25',\n",
       "  'type': 'data',\n",
       "  'attributes': {'id': 25, 'string_value': None, 'float_value': 7.0},\n",
       "  'relationships': {'metric': {'data': {'id': 13, 'type': 'metrics'}}},\n",
       "  'links': {'self': 'http://localhost:3000/facilities/1/kpis/13/dot/25'}},\n",
       " {'id': '26',\n",
       "  'type': 'data',\n",
       "  'attributes': {'id': 26, 'string_value': None, 'float_value': 5.6},\n",
       "  'relationships': {'metric': {'data': {'id': 13, 'type': 'metrics'}}},\n",
       "  'links': {'self': 'http://localhost:3000/facilities/1/kpis/13/dot/26'}},\n",
       " {'id': '27',\n",
       "  'type': 'data',\n",
       "  'attributes': {'id': 27, 'string_value': None, 'float_value': 7.1},\n",
       "  'relationships': {'metric': {'data': {'id': 13, 'type': 'metrics'}}},\n",
       "  'links': {'self': 'http://localhost:3000/facilities/1/kpis/13/dot/27'}},\n",
       " {'id': '28',\n",
       "  'type': 'data',\n",
       "  'attributes': {'id': 28, 'string_value': None, 'float_value': 6.7},\n",
       "  'relationships': {'metric': {'data': {'id': 13, 'type': 'metrics'}}},\n",
       "  'links': {'self': 'http://localhost:3000/facilities/1/kpis/13/dot/28'}},\n",
       " {'id': '29',\n",
       "  'type': 'data',\n",
       "  'attributes': {'id': 29, 'string_value': None, 'float_value': 6.7},\n",
       "  'relationships': {'metric': {'data': {'id': 13, 'type': 'metrics'}}},\n",
       "  'links': {'self': 'http://localhost:3000/facilities/1/kpis/13/dot/29'}},\n",
       " {'id': '30',\n",
       "  'type': 'data',\n",
       "  'attributes': {'id': 30, 'string_value': None, 'float_value': 5.2},\n",
       "  'relationships': {'metric': {'data': {'id': 13, 'type': 'metrics'}}},\n",
       "  'links': {'self': 'http://localhost:3000/facilities/1/kpis/13/dot/30'}},\n",
       " {'id': '1',\n",
       "  'type': 'data',\n",
       "  'attributes': {'id': 1, 'string_value': None, 'float_value': 7.6},\n",
       "  'relationships': {'metric': {'data': {'id': 13, 'type': 'metrics'}}},\n",
       "  'links': {'self': 'http://localhost:3000/facilities/1/kpis/13/dot/1'}}]"
      ]
     },
     "execution_count": null,
     "metadata": {},
     "output_type": "execute_result"
    }
   ],
   "source": [
    "metric_data.find(facility_id=1, metric_id=13)"
   ]
  },
  {
   "cell_type": "code",
   "execution_count": null,
   "metadata": {},
   "outputs": [
    {
     "data": {
      "text/markdown": [
       "<h4 id=\"MetricsData.create\" class=\"doc_header\"><code>MetricsData.create</code><a href=\"__main__.py#L13\" class=\"source_link\" style=\"float:right\">[source]</a></h4>\n",
       "\n",
       "> <code>MetricsData.create</code>(**`facility_id`**, **`metric_id`**, **`attributes`**)\n",
       "\n",
       "Creates a new metric data point for a specific metric"
      ],
      "text/plain": [
       "<IPython.core.display.Markdown object>"
      ]
     },
     "metadata": {},
     "output_type": "display_data"
    }
   ],
   "source": [
    "show_doc(MetricsData.create)"
   ]
  },
  {
   "cell_type": "markdown",
   "metadata": {},
   "source": [
    "Let's create a data point for the metric with `metric_id=13`"
   ]
  },
  {
   "cell_type": "code",
   "execution_count": null,
   "metadata": {},
   "outputs": [
    {
     "data": {
      "text/plain": [
       "{'id': '457',\n",
       " 'type': 'data',\n",
       " 'attributes': {'id': 457, 'string_value': None, 'float_value': 20.7},\n",
       " 'relationships': {'metric': {'data': {'id': 13, 'type': 'metrics'}}},\n",
       " 'links': {'self': 'http://localhost:3000/facilities/1/kpis/13/dot/457'}}"
      ]
     },
     "execution_count": null,
     "metadata": {},
     "output_type": "execute_result"
    }
   ],
   "source": [
    "attributes = {\n",
    "    \"float_value\": 20.7, \"recorded_at\":  \"2021-02-23T12:16:00+00:00\"}\n",
    "created_metric_data = metric_data.create(facility_id=1, metric_id=13, attributes=attributes)\n",
    "created_metric_data"
   ]
  }
 ],
 "metadata": {
  "kernelspec": {
   "display_name": "Python [conda env:nbdev]",
   "language": "python",
   "name": "conda-env-nbdev-py"
  }
 },
 "nbformat": 4,
 "nbformat_minor": 4
}
