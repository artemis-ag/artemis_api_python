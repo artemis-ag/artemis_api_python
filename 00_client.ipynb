{
 "cells": [
  {
   "cell_type": "code",
   "execution_count": null,
   "metadata": {},
   "outputs": [],
   "source": [
    "# default_exp client"
   ]
  },
  {
   "cell_type": "code",
   "execution_count": null,
   "metadata": {},
   "outputs": [],
   "source": [
    "#hide\n",
    "%load_ext autoreload\n",
    "%autoreload 2"
   ]
  },
  {
   "cell_type": "markdown",
   "metadata": {},
   "source": [
    "# API Client\n",
    "\n",
    "> This is a python client used for authenticating to the Artemis API."
   ]
  },
  {
   "cell_type": "code",
   "execution_count": null,
   "metadata": {},
   "outputs": [],
   "source": [
    "#hide\n",
    "from nbdev.showdoc import *"
   ]
  },
  {
   "cell_type": "code",
   "execution_count": null,
   "metadata": {},
   "outputs": [],
   "source": [
    "#export\n",
    "import os\n",
    "from requests_oauthlib import OAuth2Session\n",
    "from dotenv import load_dotenv"
   ]
  },
  {
   "cell_type": "code",
   "execution_count": null,
   "metadata": {},
   "outputs": [
    {
     "data": {
      "text/plain": [
       "True"
      ]
     },
     "execution_count": null,
     "metadata": {},
     "output_type": "execute_result"
    }
   ],
   "source": [
    "#export\n",
    "load_dotenv(dotenv_path='/Users/vincent/Documents/envvars/cred.env')"
   ]
  },
  {
   "cell_type": "code",
   "execution_count": null,
   "metadata": {},
   "outputs": [],
   "source": [
    "#export\n",
    "class APIClient:\n",
    "    \"API Client that enables to authenticate and connect to the `Artemis API`. You need to create an instance of the client to be able to interact with the API\"\n",
    "    def __init__(self, token=None, auth_code=None,\n",
    "                 redirect_uri=None, on_token_refreshed=None, on_token_failed=None):\n",
    "        \n",
    "        if (token is None) & (auth_code is None):\n",
    "            raise ValueError('You must either provide your token or an authorization code.')\n",
    "        \n",
    "        self.app_id = os.environ['ARTEMIS_OAUTH_APP_ID']\n",
    "        self.app_secret = os.environ['ARTEMIS_OAUTH_APP_SECRET']\n",
    "        self.base_uri = os.environ['ARTEMIS_BASE_URI']\n",
    "        self.authorization_base_url = f\"{self.base_uri}/oauth/authorize\"\n",
    "        self.token_url = f\"{self.base_uri}/oauth/token\"\n",
    "        self.refresh_url = self.token_url\n",
    "        self.url_prefix = '/api/v3'\n",
    "        \n",
    "        if auth_code is not None:\n",
    "            self.redirect_uri = 'urn:ietf:wg:oauth:2.0:oob' if redirect_uri is None else redirect_uri\n",
    "            self.oauth_client = OAuth2Session(self.app_id, redirect_uri=self.redirect_uri)\n",
    "            authorization_response = f\"{self.base_uri}/oauth/authorize/native?code={auth_code}\"\n",
    "            self.token = self.oauth_client.fetch_token(\n",
    "                self.token_url,\n",
    "                authorization_response=authorization_response,\n",
    "                client_secret=self.app_secret)\n",
    "        else:\n",
    "            self.oauth_client = OAuth2Session(self.app_id, token=token)\n",
    "            self.token = self.oauth_client.refresh_token(self.refresh_url, client_id=self.app_id, client_secret=self.app_secret)\n",
    "            \n",
    "        self.access_token = self.token.get('access_token')\n",
    "        self.token_type = self.token.get('token_type')\n",
    "        self.refresh_token = self.token.get('refresh_token')\n",
    "        self.expires_at = self.token.get('expires_at')\n",
    "    \n",
    "    def set_url(self, url):\n",
    "        \"Process a url and sets it accordingly for the API calls. The base_url and the url_prefix will be concatenated (preceed) the url\"\n",
    "        return f'{self.base_uri}{self.url_prefix}{url}'\n",
    "    \n",
    "    def get(self, url):\n",
    "        \"Performs a GET request for the url\"\n",
    "        headers = {\"Content-Type\": \"application/json\"}\n",
    "        return self.oauth_client.get(self.set_url(url), headers=headers) \n",
    "    \n",
    "    def post(self, url, data):\n",
    "        \"Performs a POST request for the url and parameters\"\n",
    "        headers = {\"Content-Type\": \"application/json\"}\n",
    "        return self.oauth_client.post(self.set_url(url), data=data, headers=headers)\n",
    "    \n",
    "    def put(self, url, data):\n",
    "        \"Performs a PUT request for the url and parameters\"\n",
    "        headers = {\"Content-Type\": \"application/json\"}\n",
    "        return self.oauth_client.put(self.set_url(url), data=data, headers=headers)\n",
    "    \n",
    "    def delete(self, url):\n",
    "        \"Performs a DELETE request for the url\"\n",
    "        headers = {\"Content-Type\": \"application/json\"}\n",
    "        return self.oauth_client.delete(self.set_url(url), headers=headers)\n",
    "    \n",
    "    def status_handler(self, response):\n",
    "        \"Handles API responses depending on status code\"\n",
    "        return None\n"
   ]
  },
  {
   "cell_type": "code",
   "execution_count": null,
   "metadata": {},
   "outputs": [
    {
     "data": {
      "text/markdown": [
       "<h4 id=\"APIClient.set_url\" class=\"doc_header\"><code>APIClient.set_url</code><a href=\"__main__.py#L35\" class=\"source_link\" style=\"float:right\">[source]</a></h4>\n",
       "\n",
       "> <code>APIClient.set_url</code>(**`url`**)\n",
       "\n",
       "Process a url and sets it accordingly for the API calls. The base_url and the url_prefix will be concatenated (preceed) the url"
      ],
      "text/plain": [
       "<IPython.core.display.Markdown object>"
      ]
     },
     "metadata": {},
     "output_type": "display_data"
    }
   ],
   "source": [
    "show_doc(APIClient.set_url)"
   ]
  },
  {
   "cell_type": "code",
   "execution_count": null,
   "metadata": {},
   "outputs": [
    {
     "data": {
      "text/markdown": [
       "<h4 id=\"APIClient.get\" class=\"doc_header\"><code>APIClient.get</code><a href=\"__main__.py#L39\" class=\"source_link\" style=\"float:right\">[source]</a></h4>\n",
       "\n",
       "> <code>APIClient.get</code>(**`url`**)\n",
       "\n",
       "Performs a GET request for the url"
      ],
      "text/plain": [
       "<IPython.core.display.Markdown object>"
      ]
     },
     "metadata": {},
     "output_type": "display_data"
    }
   ],
   "source": [
    "show_doc(APIClient.get)"
   ]
  },
  {
   "cell_type": "code",
   "execution_count": null,
   "metadata": {},
   "outputs": [
    {
     "data": {
      "text/markdown": [
       "<h4 id=\"APIClient.post\" class=\"doc_header\"><code>APIClient.post</code><a href=\"__main__.py#L44\" class=\"source_link\" style=\"float:right\">[source]</a></h4>\n",
       "\n",
       "> <code>APIClient.post</code>(**`url`**, **`data`**)\n",
       "\n",
       "Performs a POST request for the url and parameters"
      ],
      "text/plain": [
       "<IPython.core.display.Markdown object>"
      ]
     },
     "metadata": {},
     "output_type": "display_data"
    }
   ],
   "source": [
    "show_doc(APIClient.post)"
   ]
  },
  {
   "cell_type": "code",
   "execution_count": null,
   "metadata": {},
   "outputs": [
    {
     "data": {
      "text/markdown": [
       "<h4 id=\"APIClient.put\" class=\"doc_header\"><code>APIClient.put</code><a href=\"__main__.py#L49\" class=\"source_link\" style=\"float:right\">[source]</a></h4>\n",
       "\n",
       "> <code>APIClient.put</code>(**`url`**, **`data`**)\n",
       "\n",
       "Performs a PUT request for the url and parameters"
      ],
      "text/plain": [
       "<IPython.core.display.Markdown object>"
      ]
     },
     "metadata": {},
     "output_type": "display_data"
    }
   ],
   "source": [
    "show_doc(APIClient.put)"
   ]
  },
  {
   "cell_type": "code",
   "execution_count": null,
   "metadata": {},
   "outputs": [
    {
     "data": {
      "text/markdown": [
       "<h4 id=\"APIClient.delete\" class=\"doc_header\"><code>APIClient.delete</code><a href=\"__main__.py#L54\" class=\"source_link\" style=\"float:right\">[source]</a></h4>\n",
       "\n",
       "> <code>APIClient.delete</code>(**`url`**)\n",
       "\n",
       "Performs a DELETE request for the url"
      ],
      "text/plain": [
       "<IPython.core.display.Markdown object>"
      ]
     },
     "metadata": {},
     "output_type": "display_data"
    }
   ],
   "source": [
    "show_doc(APIClient.delete)"
   ]
  },
  {
   "cell_type": "code",
   "execution_count": null,
   "metadata": {},
   "outputs": [
    {
     "data": {
      "text/markdown": [
       "<h4 id=\"APIClient.status_handler\" class=\"doc_header\"><code>APIClient.status_handler</code><a href=\"__main__.py#L59\" class=\"source_link\" style=\"float:right\">[source]</a></h4>\n",
       "\n",
       "> <code>APIClient.status_handler</code>(**`response`**)\n",
       "\n",
       "Handles API responses depending on status code"
      ],
      "text/plain": [
       "<IPython.core.display.Markdown object>"
      ]
     },
     "metadata": {},
     "output_type": "display_data"
    }
   ],
   "source": [
    "show_doc(APIClient.status_handler)"
   ]
  },
  {
   "cell_type": "code",
   "execution_count": null,
   "metadata": {},
   "outputs": [],
   "source": []
  }
 ],
 "metadata": {
  "kernelspec": {
   "display_name": "Python [conda env:nbdev]",
   "language": "python",
   "name": "conda-env-nbdev-py"
  }
 },
 "nbformat": 4,
 "nbformat_minor": 2
}
