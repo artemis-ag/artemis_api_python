{
 "cells": [
  {
   "cell_type": "code",
   "execution_count": null,
   "metadata": {},
   "outputs": [],
   "source": [
    "# default_exp metric"
   ]
  },
  {
   "cell_type": "code",
   "execution_count": null,
   "metadata": {},
   "outputs": [],
   "source": [
    "#hide\n",
    "%load_ext autoreload\n",
    "%autoreload 2"
   ]
  },
  {
   "cell_type": "markdown",
   "metadata": {},
   "source": [
    "# Metric\n",
    "\n",
    "> Artemis Metric entity implementation to use the associated metric API endpoints."
   ]
  },
  {
   "cell_type": "code",
   "execution_count": null,
   "metadata": {},
   "outputs": [],
   "source": [
    "#hide\n",
    "from nbdev.showdoc import *\n",
    "from artemis_api_python.client import *"
   ]
  },
  {
   "cell_type": "code",
   "execution_count": null,
   "metadata": {},
   "outputs": [
    {
     "data": {
      "text/plain": [
       "True"
      ]
     },
     "execution_count": null,
     "metadata": {},
     "output_type": "execute_result"
    }
   ],
   "source": [
    "#hide\n",
    "from dotenv import load_dotenv\n",
    "load_dotenv(dotenv_path='.env')"
   ]
  },
  {
   "cell_type": "code",
   "execution_count": null,
   "metadata": {},
   "outputs": [],
   "source": [
    "#export\n",
    "import json"
   ]
  },
  {
   "cell_type": "code",
   "execution_count": null,
   "metadata": {},
   "outputs": [],
   "source": [
    "#export\n",
    "class Metric:\n",
    "    \"`Artemis API` Metric entity object\"\n",
    "    def __init__(self, client): \n",
    "        self.client = client\n",
    "        self.response = None\n",
    "\n",
    "    def find_all(self, facility_id):\n",
    "        \"Retrieves all metrics for a specific facility\"\n",
    "        self.response = self.client.get(f'/facilities/{facility_id}/metrics')\n",
    "        return self.client.response_handler(self.response)\n",
    "    \n",
    "    def find(self, facility_id, metric_id):\n",
    "        \"Retrieves a specific metric for a specific facility\"\n",
    "        self.response = self.client.get(f'/facilities/{facility_id}/metrics/{metric_id}')\n",
    "        return self.client.response_handler(self.response)\n",
    "    \n",
    "    def create(self, facility_id, attributes):\n",
    "        \"Creates a new metric for a specific facility\"\n",
    "        data = {}\n",
    "        body = {}\n",
    "        data['type'] = \"metrics\"\n",
    "        data['attributes'] = attributes\n",
    "        body['facility_id'] = facility_id\n",
    "        body['_jsonapi'] = {}\n",
    "        body['_jsonapi']['data'] = data\n",
    "        self.response = self.client.post(f'/facilities/{facility_id}/metrics', json.dumps(body))\n",
    "        return self.client.response_handler(self.response, body)"
   ]
  },
  {
   "cell_type": "code",
   "execution_count": null,
   "metadata": {},
   "outputs": [
    {
     "data": {
      "text/markdown": [
       "<h4 id=\"Metric.find_all\" class=\"doc_header\"><code>Metric.find_all</code><a href=\"__main__.py#L8\" class=\"source_link\" style=\"float:right\">[source]</a></h4>\n",
       "\n",
       "> <code>Metric.find_all</code>(**`facility_id`**)\n",
       "\n",
       "Retrieves all metrics for a specific facility"
      ],
      "text/plain": [
       "<IPython.core.display.Markdown object>"
      ]
     },
     "metadata": {},
     "output_type": "display_data"
    }
   ],
   "source": [
    "show_doc(Metric.find_all)"
   ]
  },
  {
   "cell_type": "code",
   "execution_count": null,
   "metadata": {},
   "outputs": [],
   "source": [
    "#hide\n",
    "client = APIClient(auth_code=\"YOUR_AUTHORIZATION_CODE\")"
   ]
  },
  {
   "cell_type": "markdown",
   "metadata": {},
   "source": [
    "Let's look for all metrics for a specific facility"
   ]
  },
  {
   "cell_type": "code",
   "execution_count": null,
   "metadata": {},
   "outputs": [
    {
     "data": {
      "text/plain": [
       "13"
      ]
     },
     "execution_count": null,
     "metadata": {},
     "output_type": "execute_result"
    }
   ],
   "source": [
    "metric = Metric(client)\n",
    "metrics = metric.find_all(facility_id=1574)\n",
    "len(metrics)"
   ]
  },
  {
   "cell_type": "markdown",
   "metadata": {},
   "source": [
    "We can access 2 of found metrics:"
   ]
  },
  {
   "cell_type": "code",
   "execution_count": null,
   "metadata": {},
   "outputs": [
    {
     "data": {
      "text/plain": [
       "[{'id': '12027',\n",
       "  'type': 'metrics',\n",
       "  'attributes': {'id': 12027,\n",
       "   'created_at': '2019-10-03T17:19:52.407Z',\n",
       "   'name': 'EC',\n",
       "   'number_of_people': 0,\n",
       "   'kind': 'decimal',\n",
       "   'task_category_id': None,\n",
       "   'units': 'numeric',\n",
       "   'high_threshold': None,\n",
       "   'low_threshold': None,\n",
       "   'target': None,\n",
       "   'kpi_type': 'nutrient',\n",
       "   'created_by_user_id': None,\n",
       "   'slug': 'ec-28'},\n",
       "  'relationships': {'calendar_event': {'meta': {'included': False}},\n",
       "   'dots': {'meta': {'included': False}}}},\n",
       " {'id': '12026',\n",
       "  'type': 'metrics',\n",
       "  'attributes': {'id': 12026,\n",
       "   'created_at': '2019-10-03T17:19:52.396Z',\n",
       "   'name': 'Temperature',\n",
       "   'number_of_people': 0,\n",
       "   'kind': 'decimal',\n",
       "   'task_category_id': None,\n",
       "   'units': 'degrees',\n",
       "   'high_threshold': None,\n",
       "   'low_threshold': None,\n",
       "   'target': None,\n",
       "   'kpi_type': 'nutrient',\n",
       "   'created_by_user_id': None,\n",
       "   'slug': 'temperature-28'},\n",
       "  'relationships': {'calendar_event': {'meta': {'included': False}},\n",
       "   'dots': {'meta': {'included': False}}}}]"
      ]
     },
     "execution_count": null,
     "metadata": {},
     "output_type": "execute_result"
    }
   ],
   "source": [
    "metrics[-3:-1]"
   ]
  },
  {
   "cell_type": "markdown",
   "metadata": {},
   "source": [
    "We can also access the latest response that was associated to the `metric` object:"
   ]
  },
  {
   "cell_type": "code",
   "execution_count": null,
   "metadata": {},
   "outputs": [
    {
     "data": {
      "text/plain": [
       "(<Response [200]>, requests.models.Response)"
      ]
     },
     "execution_count": null,
     "metadata": {},
     "output_type": "execute_result"
    }
   ],
   "source": [
    "metric.response, type(metric.response)"
   ]
  },
  {
   "cell_type": "markdown",
   "metadata": {},
   "source": [
    "Since it's type is `requests.models.Response` you can also access the associated attributes and functions:"
   ]
  },
  {
   "cell_type": "code",
   "execution_count": null,
   "metadata": {},
   "outputs": [
    {
     "data": {
      "text/plain": [
       "{'id': '12027',\n",
       " 'type': 'metrics',\n",
       " 'attributes': {'id': 12027,\n",
       "  'created_at': '2019-10-03T17:19:52.407Z',\n",
       "  'name': 'EC',\n",
       "  'number_of_people': 0,\n",
       "  'kind': 'decimal',\n",
       "  'task_category_id': None,\n",
       "  'units': 'numeric',\n",
       "  'high_threshold': None,\n",
       "  'low_threshold': None,\n",
       "  'target': None,\n",
       "  'kpi_type': 'nutrient',\n",
       "  'created_by_user_id': None,\n",
       "  'slug': 'ec-28'},\n",
       " 'relationships': {'calendar_event': {'meta': {'included': False}},\n",
       "  'dots': {'meta': {'included': False}}}}"
      ]
     },
     "execution_count": null,
     "metadata": {},
     "output_type": "execute_result"
    }
   ],
   "source": [
    "metric.response.json().get('data')[10]"
   ]
  },
  {
   "cell_type": "code",
   "execution_count": null,
   "metadata": {},
   "outputs": [
    {
     "data": {
      "text/markdown": [
       "<h4 id=\"Metric.find\" class=\"doc_header\"><code>Metric.find</code><a href=\"__main__.py#L13\" class=\"source_link\" style=\"float:right\">[source]</a></h4>\n",
       "\n",
       "> <code>Metric.find</code>(**`facility_id`**, **`metric_id`**)\n",
       "\n",
       "Retrieves a specific metric for a specific facility"
      ],
      "text/plain": [
       "<IPython.core.display.Markdown object>"
      ]
     },
     "metadata": {},
     "output_type": "display_data"
    }
   ],
   "source": [
    "show_doc(Metric.find)"
   ]
  },
  {
   "cell_type": "markdown",
   "metadata": {},
   "source": [
    "Let's retrieve the `Nitrite, id: 12036` metric information"
   ]
  },
  {
   "cell_type": "code",
   "execution_count": null,
   "metadata": {},
   "outputs": [
    {
     "data": {
      "text/plain": [
       "{'id': '12036',\n",
       " 'type': 'metrics',\n",
       " 'attributes': {'id': 12036,\n",
       "  'created_at': '2019-10-03T17:19:52.509Z',\n",
       "  'name': 'Nitrite',\n",
       "  'number_of_people': 0,\n",
       "  'kind': 'decimal',\n",
       "  'task_category_id': None,\n",
       "  'units': 'ppm',\n",
       "  'high_threshold': None,\n",
       "  'low_threshold': None,\n",
       "  'target': None,\n",
       "  'kpi_type': 'nutrient',\n",
       "  'created_by_user_id': None,\n",
       "  'slug': 'nitrite-28'},\n",
       " 'relationships': {'calendar_event': {'meta': {'included': False}},\n",
       "  'dots': {'meta': {'included': False}}}}"
      ]
     },
     "execution_count": null,
     "metadata": {},
     "output_type": "execute_result"
    }
   ],
   "source": [
    "metric_12036 = metric.find(facility_id=1574, metric_id=12036)\n",
    "metric_12036"
   ]
  },
  {
   "cell_type": "code",
   "execution_count": null,
   "metadata": {},
   "outputs": [
    {
     "data": {
      "text/markdown": [
       "<h4 id=\"Metric.create\" class=\"doc_header\"><code>Metric.create</code><a href=\"__main__.py#L18\" class=\"source_link\" style=\"float:right\">[source]</a></h4>\n",
       "\n",
       "> <code>Metric.create</code>(**`facility_id`**, **`attributes`**)\n",
       "\n",
       "Creates a new metric for a specific facility"
      ],
      "text/plain": [
       "<IPython.core.display.Markdown object>"
      ]
     },
     "metadata": {},
     "output_type": "display_data"
    }
   ],
   "source": [
    "show_doc(Metric.create)"
   ]
  },
  {
   "cell_type": "markdown",
   "metadata": {},
   "source": [
    "Let's create a new `Root-zone Temperature` metric and tie it to the `Priva Root Optimizer, id:5642` sensor:"
   ]
  },
  {
   "cell_type": "code",
   "execution_count": null,
   "metadata": {},
   "outputs": [
    {
     "data": {
      "text/plain": [
       "{'id': '22192',\n",
       " 'type': 'metrics',\n",
       " 'attributes': {'id': 22192,\n",
       "  'created_at': '2021-03-02T18:47:15.174Z',\n",
       "  'name': 'Root-zone Temperature',\n",
       "  'number_of_people': 0,\n",
       "  'kind': 'decimal',\n",
       "  'task_category_id': None,\n",
       "  'units': '°C',\n",
       "  'high_threshold': None,\n",
       "  'low_threshold': None,\n",
       "  'target': None,\n",
       "  'kpi_type': 'sensor',\n",
       "  'created_by_user_id': 1438,\n",
       "  'slug': None},\n",
       " 'relationships': {'calendar_event': {'data': None},\n",
       "  'dots': {'meta': {'included': False}}}}"
      ]
     },
     "execution_count": null,
     "metadata": {},
     "output_type": "execute_result"
    }
   ],
   "source": [
    "attributes = {\n",
    "    'name': 'Root-zone Temperature',\n",
    "    'descrip': 'Temperature in °C at root zone',\n",
    "    'kind': 'decimal',\n",
    "    'units': '°C',\n",
    "    'kpi_type': 'sensor',\n",
    "    'sensor_id': 5642\n",
    "}\n",
    "new_metric = metric.create(facility_id=1574, attributes=attributes)\n",
    "new_metric"
   ]
  }
 ],
 "metadata": {
  "kernelspec": {
   "display_name": "Python [conda env:nbdev]",
   "language": "python",
   "name": "conda-env-nbdev-py"
  }
 },
 "nbformat": 4,
 "nbformat_minor": 2
}
