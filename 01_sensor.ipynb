{
 "cells": [
  {
   "cell_type": "code",
   "execution_count": null,
   "metadata": {},
   "outputs": [],
   "source": [
    "# default_exp sensor"
   ]
  },
  {
   "cell_type": "code",
   "execution_count": null,
   "metadata": {},
   "outputs": [],
   "source": [
    "#hide\n",
    "%load_ext autoreload\n",
    "%autoreload 2"
   ]
  },
  {
   "cell_type": "markdown",
   "metadata": {},
   "source": [
    "# Sensor\n",
    "\n",
    "> Artemis Sensor entity implementation to use the associated sensor API endpoints."
   ]
  },
  {
   "cell_type": "code",
   "execution_count": null,
   "metadata": {},
   "outputs": [],
   "source": [
    "#hide\n",
    "from nbdev.showdoc import *"
   ]
  },
  {
   "cell_type": "code",
   "execution_count": null,
   "metadata": {},
   "outputs": [],
   "source": [
    "#export\n",
    "import os\n",
    "from requests_oauthlib import OAuth2Session\n",
    "from dotenv import load_dotenv\n",
    "import json"
   ]
  },
  {
   "cell_type": "code",
   "execution_count": null,
   "metadata": {},
   "outputs": [
    {
     "data": {
      "text/plain": [
       "True"
      ]
     },
     "execution_count": null,
     "metadata": {},
     "output_type": "execute_result"
    }
   ],
   "source": [
    "#export\n",
    "load_dotenv(dotenv_path='/Users/vincent/Documents/envvars/cred.env')"
   ]
  },
  {
   "cell_type": "code",
   "execution_count": null,
   "metadata": {},
   "outputs": [],
   "source": [
    "#export\n",
    "class Sensor:\n",
    "    \"`Artemis API` Sensor entity object\"\n",
    "    def __init__(self, client): self.client = client\n",
    "\n",
    "    def get_all(self, facility_id):\n",
    "        \"Retrieves all sensors for a specific facility\"\n",
    "        return self.client.get(f'/facilities/{facility_id}/sensors')\n",
    "    \n",
    "    def get(self, facility_id, sensor_id):\n",
    "        \"Retrieves a specific sensor for a specific facility\"\n",
    "        return self.client.get(f'/facilities/{facility_id}/sensors/{sensor_id}')\n",
    "    \n",
    "    def post(self, facility_id, sensor_name, sensor_model):\n",
    "        \"Creates a new sensor for a specific facility\"\n",
    "        attributes = {}\n",
    "        data = {}\n",
    "        body = {}\n",
    "        attributes['name'] = sensor_name\n",
    "        attributes['model'] = sensor_model\n",
    "        data['type'] = \"sensors\"\n",
    "        data['attributes'] = attributes\n",
    "        body['facility_id'] = facility_id\n",
    "        body['_jsonapi'] = {}\n",
    "        body['_jsonapi']['data'] = data\n",
    "        return self.client.post(f'/facilities/{facility_id}/sensors', json.dumps(body))\n",
    "    \n",
    "    def put(self, facility_id, sensor_id, sensor_name, sensor_model):\n",
    "        \"Creates a new sensor for a specific facility\"\n",
    "        attributes = {}\n",
    "        data = {}\n",
    "        body = {}\n",
    "        attributes['name'] = sensor_name\n",
    "        attributes['model'] = sensor_model\n",
    "        data['type'] = \"sensors\"\n",
    "        data['attributes'] = attributes\n",
    "        body['facility_id'] = facility_id\n",
    "        body['id'] = sensor_id\n",
    "        body['_jsonapi'] = {}\n",
    "        body['_jsonapi']['data'] = data\n",
    "        return self.client.put(f'/facilities/{facility_id}/sensors/{sensor_id}', json.dumps(body))\n",
    "    \n",
    "    def delete(self, facility_id, sensor_id):\n",
    "        \"Deletes a specific sensor for a specific facility\"\n",
    "        return self.client.delete(f'/facilities/{facility_id}/sensors/{sensor_id}')\n"
   ]
  },
  {
   "cell_type": "code",
   "execution_count": null,
   "metadata": {},
   "outputs": [
    {
     "data": {
      "text/markdown": [
       "<h4 id=\"Sensor.get_all\" class=\"doc_header\"><code>Sensor.get_all</code><a href=\"__main__.py#L6\" class=\"source_link\" style=\"float:right\">[source]</a></h4>\n",
       "\n",
       "> <code>Sensor.get_all</code>(**`facility_id`**)\n",
       "\n",
       "Retrieves all sensors for a specific facility"
      ],
      "text/plain": [
       "<IPython.core.display.Markdown object>"
      ]
     },
     "metadata": {},
     "output_type": "display_data"
    }
   ],
   "source": [
    "show_doc(Sensor.get_all)"
   ]
  },
  {
   "cell_type": "code",
   "execution_count": null,
   "metadata": {},
   "outputs": [
    {
     "data": {
      "text/markdown": [
       "<h4 id=\"Sensor.get\" class=\"doc_header\"><code>Sensor.get</code><a href=\"__main__.py#L10\" class=\"source_link\" style=\"float:right\">[source]</a></h4>\n",
       "\n",
       "> <code>Sensor.get</code>(**`facility_id`**, **`sensor_id`**)\n",
       "\n",
       "Retrieves a specific sensor for a specific facility"
      ],
      "text/plain": [
       "<IPython.core.display.Markdown object>"
      ]
     },
     "metadata": {},
     "output_type": "display_data"
    }
   ],
   "source": [
    "show_doc(Sensor.get)"
   ]
  },
  {
   "cell_type": "code",
   "execution_count": null,
   "metadata": {},
   "outputs": [
    {
     "data": {
      "text/markdown": [
       "<h4 id=\"Sensor.post\" class=\"doc_header\"><code>Sensor.post</code><a href=\"__main__.py#L14\" class=\"source_link\" style=\"float:right\">[source]</a></h4>\n",
       "\n",
       "> <code>Sensor.post</code>(**`facility_id`**, **`sensor_name`**, **`sensor_model`**)\n",
       "\n",
       "Creates a new sensor for a specific facility"
      ],
      "text/plain": [
       "<IPython.core.display.Markdown object>"
      ]
     },
     "metadata": {},
     "output_type": "display_data"
    }
   ],
   "source": [
    "show_doc(Sensor.post)"
   ]
  },
  {
   "cell_type": "code",
   "execution_count": null,
   "metadata": {},
   "outputs": [
    {
     "data": {
      "text/markdown": [
       "<h4 id=\"Sensor.put\" class=\"doc_header\"><code>Sensor.put</code><a href=\"__main__.py#L28\" class=\"source_link\" style=\"float:right\">[source]</a></h4>\n",
       "\n",
       "> <code>Sensor.put</code>(**`facility_id`**, **`sensor_name`**, **`sensor_model`**)\n",
       "\n",
       "Creates a new sensor for a specific facility"
      ],
      "text/plain": [
       "<IPython.core.display.Markdown object>"
      ]
     },
     "metadata": {},
     "output_type": "display_data"
    }
   ],
   "source": [
    "show_doc(Sensor.put)"
   ]
  },
  {
   "cell_type": "code",
   "execution_count": null,
   "metadata": {},
   "outputs": [
    {
     "data": {
      "text/markdown": [
       "<h4 id=\"Sensor.delete\" class=\"doc_header\"><code>Sensor.delete</code><a href=\"__main__.py#L34\" class=\"source_link\" style=\"float:right\">[source]</a></h4>\n",
       "\n",
       "> <code>Sensor.delete</code>(**`facility_id`**, **`sensor_id`**)\n",
       "\n",
       "Deletes a specific sensor for a specific facility"
      ],
      "text/plain": [
       "<IPython.core.display.Markdown object>"
      ]
     },
     "metadata": {},
     "output_type": "display_data"
    }
   ],
   "source": [
    "show_doc(Sensor.delete)"
   ]
  },
  {
   "cell_type": "code",
   "execution_count": null,
   "metadata": {},
   "outputs": [],
   "source": []
  }
 ],
 "metadata": {
  "kernelspec": {
   "display_name": "Python [conda env:nbdev]",
   "language": "python",
   "name": "conda-env-nbdev-py"
  }
 },
 "nbformat": 4,
 "nbformat_minor": 2
}
