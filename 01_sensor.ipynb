{
 "cells": [
  {
   "cell_type": "code",
   "execution_count": null,
   "metadata": {},
   "outputs": [],
   "source": [
    "# default_exp sensor"
   ]
  },
  {
   "cell_type": "code",
   "execution_count": null,
   "metadata": {},
   "outputs": [],
   "source": [
    "#hide\n",
    "%load_ext autoreload\n",
    "%autoreload 2"
   ]
  },
  {
   "cell_type": "markdown",
   "metadata": {},
   "source": [
    "# Sensor\n",
    "\n",
    "> Artemis Sensor entity implementation to use the associated sensor API endpoints."
   ]
  },
  {
   "cell_type": "code",
   "execution_count": null,
   "metadata": {},
   "outputs": [],
   "source": [
    "#hide\n",
    "from nbdev.showdoc import *\n",
    "from artemis_api_python.client import *"
   ]
  },
  {
   "cell_type": "code",
   "execution_count": null,
   "metadata": {},
   "outputs": [],
   "source": [
    "#export\n",
    "import json"
   ]
  },
  {
   "cell_type": "code",
   "execution_count": null,
   "metadata": {},
   "outputs": [],
   "source": [
    "#export\n",
    "class Sensor:\n",
    "    \"`Artemis API` Sensor entity object\"\n",
    "    def __init__(self, client): \n",
    "        self.client = client\n",
    "        self.response = None\n",
    "\n",
    "    def find_all(self, facility_id):\n",
    "        \"Retrieves all sensors for a specific facility\"\n",
    "        self.response = self.client.get(f'/facilities/{facility_id}/sensors')\n",
    "        return self.response.json().get('data')\n",
    "    \n",
    "    def find(self, facility_id, sensor_id):\n",
    "        \"Retrieves a specific sensor for a specific facility\"\n",
    "        self.response = self.client.get(f'/facilities/{facility_id}/sensors/{sensor_id}')\n",
    "        return self.response.json().get('data')\n",
    "    \n",
    "    def create(self, facility_id, attributes):\n",
    "        \"Creates a new sensor for a specific facility\"\n",
    "        data = {}\n",
    "        body = {}\n",
    "        data['type'] = \"sensors\"\n",
    "        data['attributes'] = attributes\n",
    "        body['facility_id'] = facility_id\n",
    "        body['_jsonapi'] = {}\n",
    "        body['_jsonapi']['data'] = data\n",
    "        self.response = self.client.post(f'/facilities/{facility_id}/sensors', json.dumps(body))\n",
    "        return self.response.json().get('data')\n",
    "    \n",
    "    def update(self, facility_id, sensor_id, attributes):\n",
    "        \"Updates an existing sensor for a specific facility\"\n",
    "        data = {}\n",
    "        body = {}\n",
    "        data['type'] = \"sensors\"\n",
    "        data['attributes'] = attributes\n",
    "        body['facility_id'] = facility_id\n",
    "        body['id'] = sensor_id\n",
    "        body['_jsonapi'] = {}\n",
    "        body['_jsonapi']['data'] = data\n",
    "        self.response = self.client.put(f'/facilities/{facility_id}/sensors/{sensor_id}', json.dumps(body))\n",
    "        return self.response.json().get('data')\n",
    "    \n",
    "    def remove(self, facility_id, sensor_id):\n",
    "        \"Deletes a specific sensor for a specific facility\"\n",
    "        self.response = self.client.delete(f'/facilities/{facility_id}/sensors/{sensor_id}')\n",
    "        return self.response.json().get('data')\n"
   ]
  },
  {
   "cell_type": "code",
   "execution_count": null,
   "metadata": {},
   "outputs": [
    {
     "data": {
      "text/markdown": [
       "<h4 id=\"Sensor.find_all\" class=\"doc_header\"><code>Sensor.find_all</code><a href=\"__main__.py#L8\" class=\"source_link\" style=\"float:right\">[source]</a></h4>\n",
       "\n",
       "> <code>Sensor.find_all</code>(**`facility_id`**)\n",
       "\n",
       "Retrieves all sensors for a specific facility"
      ],
      "text/plain": [
       "<IPython.core.display.Markdown object>"
      ]
     },
     "metadata": {},
     "output_type": "display_data"
    }
   ],
   "source": [
    "show_doc(Sensor.find_all)"
   ]
  },
  {
   "cell_type": "code",
   "execution_count": null,
   "metadata": {},
   "outputs": [],
   "source": [
    "#hide\n",
    "client = APIClient(auth_code=\"YOUR_AUTHORIZATION_CODE\")"
   ]
  },
  {
   "cell_type": "markdown",
   "metadata": {},
   "source": [
    "Let's look for all metrics for a specific facility"
   ]
  },
  {
   "cell_type": "code",
   "execution_count": null,
   "metadata": {},
   "outputs": [
    {
     "data": {
      "text/plain": [
       "1"
      ]
     },
     "execution_count": null,
     "metadata": {},
     "output_type": "execute_result"
    }
   ],
   "source": [
    "sensor = Sensor(client)\n",
    "sensors = sensor.find_all(facility_id=1574)\n",
    "len(sensors)"
   ]
  },
  {
   "cell_type": "code",
   "execution_count": null,
   "metadata": {},
   "outputs": [
    {
     "data": {
      "text/plain": [
       "[{'id': '5642',\n",
       "  'type': 'sensors',\n",
       "  'attributes': {'id': 5642,\n",
       "   'name': 'Priva Root Optimizer',\n",
       "   'facility_id': 1574,\n",
       "   'model': 'priva',\n",
       "   'created_at': '2021-03-02T18:24:32.555Z',\n",
       "   'visible': True,\n",
       "   'status': 'active',\n",
       "   'device_id': None,\n",
       "   'string': None,\n",
       "   'slug': 'priva-root-optimizer'},\n",
       "  'relationships': {'metrics': {'meta': {'included': False}},\n",
       "   'sensor_data': {'meta': {'included': False}}}}]"
      ]
     },
     "execution_count": null,
     "metadata": {},
     "output_type": "execute_result"
    }
   ],
   "source": [
    "sensors"
   ]
  },
  {
   "cell_type": "code",
   "execution_count": null,
   "metadata": {},
   "outputs": [
    {
     "data": {
      "text/markdown": [
       "<h4 id=\"Sensor.find\" class=\"doc_header\"><code>Sensor.find</code><a href=\"__main__.py#L10\" class=\"source_link\" style=\"float:right\">[source]</a></h4>\n",
       "\n",
       "> <code>Sensor.find</code>(**`facility_id`**, **`sensor_id`**)\n",
       "\n",
       "Retrieves a specific sensor for a specific facility"
      ],
      "text/plain": [
       "<IPython.core.display.Markdown object>"
      ]
     },
     "metadata": {},
     "output_type": "display_data"
    }
   ],
   "source": [
    "show_doc(Sensor.find)"
   ]
  },
  {
   "cell_type": "markdown",
   "metadata": {},
   "source": [
    "Let's retrieve the `Priva Root Optimizer, id: 5642` sensor information"
   ]
  },
  {
   "cell_type": "code",
   "execution_count": null,
   "metadata": {},
   "outputs": [
    {
     "data": {
      "text/plain": [
       "{'id': '5642',\n",
       " 'type': 'sensors',\n",
       " 'attributes': {'id': 5642,\n",
       "  'name': 'Priva Root Optimizer',\n",
       "  'facility_id': 1574,\n",
       "  'model': 'priva',\n",
       "  'created_at': '2021-03-02T18:24:32.555Z',\n",
       "  'visible': True,\n",
       "  'status': 'active',\n",
       "  'device_id': None,\n",
       "  'string': None,\n",
       "  'slug': 'priva-root-optimizer'},\n",
       " 'relationships': {'metrics': {'meta': {'included': False}},\n",
       "  'sensor_data': {'meta': {'included': False}}}}"
      ]
     },
     "execution_count": null,
     "metadata": {},
     "output_type": "execute_result"
    }
   ],
   "source": [
    "sensor_5642 = sensor.find(facility_id=1574, sensor_id=5642)\n",
    "sensor_5642"
   ]
  },
  {
   "cell_type": "code",
   "execution_count": null,
   "metadata": {},
   "outputs": [
    {
     "data": {
      "text/markdown": [
       "<h4 id=\"Sensor.create\" class=\"doc_header\"><code>Sensor.create</code><a href=\"__main__.py#L14\" class=\"source_link\" style=\"float:right\">[source]</a></h4>\n",
       "\n",
       "> <code>Sensor.create</code>(**`facility_id`**, **`attributes`**)\n",
       "\n",
       "Creates a new sensor for a specific facility"
      ],
      "text/plain": [
       "<IPython.core.display.Markdown object>"
      ]
     },
     "metadata": {},
     "output_type": "display_data"
    }
   ],
   "source": [
    "show_doc(Sensor.create)"
   ]
  },
  {
   "cell_type": "markdown",
   "metadata": {},
   "source": [
    "Let's create a new `Water Wireless Gateway` sensor:"
   ]
  },
  {
   "cell_type": "code",
   "execution_count": null,
   "metadata": {},
   "outputs": [
    {
     "data": {
      "text/plain": [
       "{'id': '5643',\n",
       " 'type': 'sensors',\n",
       " 'attributes': {'id': 5643,\n",
       "  'name': 'Water Wireless Gateway',\n",
       "  'facility_id': 1574,\n",
       "  'model': 'other',\n",
       "  'created_at': '2021-03-02T18:31:20.246Z',\n",
       "  'visible': True,\n",
       "  'status': 'active',\n",
       "  'device_id': None,\n",
       "  'string': None,\n",
       "  'slug': 'water-wireless-gateway'},\n",
       " 'relationships': {'metrics': {'meta': {'included': False}},\n",
       "  'sensor_data': {'meta': {'included': False}}}}"
      ]
     },
     "execution_count": null,
     "metadata": {},
     "output_type": "execute_result"
    }
   ],
   "source": [
    "attributes = {\n",
    "    'name' : 'Water Wireless Gateway',\n",
    "    'model' : 'other'\n",
    "}\n",
    "new_sensor = sensor.create(facility_id=1574, attributes=attributes)\n",
    "new_sensor"
   ]
  },
  {
   "cell_type": "code",
   "execution_count": null,
   "metadata": {},
   "outputs": [
    {
     "data": {
      "text/markdown": [
       "<h4 id=\"Sensor.update\" class=\"doc_header\"><code>Sensor.update</code><a href=\"__main__.py#L30\" class=\"source_link\" style=\"float:right\">[source]</a></h4>\n",
       "\n",
       "> <code>Sensor.update</code>(**`facility_id`**, **`sensor_id`**, **`attributes`**)\n",
       "\n",
       "Updates an existing sensor for a specific facility"
      ],
      "text/plain": [
       "<IPython.core.display.Markdown object>"
      ]
     },
     "metadata": {},
     "output_type": "display_data"
    }
   ],
   "source": [
    "show_doc(Sensor.update)"
   ]
  },
  {
   "cell_type": "markdown",
   "metadata": {},
   "source": [
    "Let's update the `Water Wireless Gateway` sensor and change it's name to `Water Wireless Gateway Changed`:"
   ]
  },
  {
   "cell_type": "code",
   "execution_count": null,
   "metadata": {},
   "outputs": [
    {
     "data": {
      "text/plain": [
       "{'id': '5643',\n",
       " 'type': 'sensors',\n",
       " 'attributes': {'id': 5643,\n",
       "  'name': 'Water Wireless Gateway Changed',\n",
       "  'facility_id': 1574,\n",
       "  'model': 'other',\n",
       "  'created_at': '2021-03-02T18:31:20.246Z',\n",
       "  'visible': True,\n",
       "  'status': 'active',\n",
       "  'device_id': None,\n",
       "  'string': None,\n",
       "  'slug': 'water-wireless-gateway'},\n",
       " 'relationships': {'metrics': {'meta': {'included': False}},\n",
       "  'sensor_data': {'meta': {'included': False}}}}"
      ]
     },
     "execution_count": null,
     "metadata": {},
     "output_type": "execute_result"
    }
   ],
   "source": [
    "attributes = {'name' : 'Water Wireless Gateway Changed'}\n",
    "updated_sensor = sensor.update(facility_id=1574, sensor_id=5643, attributes=attributes)\n",
    "updated_sensor"
   ]
  },
  {
   "cell_type": "code",
   "execution_count": null,
   "metadata": {},
   "outputs": [
    {
     "data": {
      "text/markdown": [
       "<h4 id=\"Sensor.remove\" class=\"doc_header\"><code>Sensor.remove</code><a href=\"__main__.py#L43\" class=\"source_link\" style=\"float:right\">[source]</a></h4>\n",
       "\n",
       "> <code>Sensor.remove</code>(**`facility_id`**, **`sensor_id`**)\n",
       "\n",
       "Deletes a specific sensor for a specific facility"
      ],
      "text/plain": [
       "<IPython.core.display.Markdown object>"
      ]
     },
     "metadata": {},
     "output_type": "display_data"
    }
   ],
   "source": [
    "show_doc(Sensor.remove)"
   ]
  },
  {
   "cell_type": "markdown",
   "metadata": {},
   "source": [
    "Let's remove the `Water Wireless Gateway Changed` sensor:"
   ]
  },
  {
   "cell_type": "code",
   "execution_count": null,
   "metadata": {},
   "outputs": [
    {
     "data": {
      "text/plain": [
       "{'id': '5643',\n",
       " 'type': 'sensors',\n",
       " 'attributes': {'id': 5643,\n",
       "  'name': 'Water Wireless Gateway Changed',\n",
       "  'facility_id': 1574,\n",
       "  'model': 'other',\n",
       "  'created_at': '2021-03-02T18:31:20.246Z',\n",
       "  'visible': True,\n",
       "  'status': 'removed',\n",
       "  'device_id': None,\n",
       "  'string': None,\n",
       "  'slug': 'water-wireless-gateway'},\n",
       " 'relationships': {'metrics': {'meta': {'included': False}},\n",
       "  'sensor_data': {'meta': {'included': False}}}}"
      ]
     },
     "execution_count": null,
     "metadata": {},
     "output_type": "execute_result"
    }
   ],
   "source": [
    "deleted_sensor = sensor.remove(facility_id=1574, sensor_id=5643)\n",
    "deleted_sensor"
   ]
  }
 ],
 "metadata": {
  "kernelspec": {
   "display_name": "Python [conda env:nbdev]",
   "language": "python",
   "name": "conda-env-nbdev-py"
  }
 },
 "nbformat": 4,
 "nbformat_minor": 2
}
