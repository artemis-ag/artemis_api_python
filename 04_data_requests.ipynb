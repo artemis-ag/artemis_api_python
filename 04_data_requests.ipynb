{
 "cells": [
  {
   "cell_type": "code",
   "execution_count": null,
   "metadata": {},
   "outputs": [],
   "source": [
    "# default_exp data_requests"
   ]
  },
  {
   "cell_type": "code",
   "execution_count": null,
   "metadata": {},
   "outputs": [
    {
     "name": "stdout",
     "output_type": "stream",
     "text": [
      "The autoreload extension is already loaded. To reload it, use:\n",
      "  %reload_ext autoreload\n"
     ]
    }
   ],
   "source": [
    "#hide\n",
    "%load_ext autoreload\n",
    "%autoreload 2"
   ]
  },
  {
   "cell_type": "markdown",
   "metadata": {},
   "source": [
    "# Data Requests\n",
    "> Artemis Data Requests entity implementation to use the associated data requests API endpoints."
   ]
  },
  {
   "cell_type": "code",
   "execution_count": null,
   "metadata": {},
   "outputs": [],
   "source": [
    "#hide\n",
    "from nbdev.showdoc import *\n",
    "from artemis_api_python.client import *"
   ]
  },
  {
   "cell_type": "code",
   "execution_count": null,
   "metadata": {},
   "outputs": [
    {
     "data": {
      "text/plain": [
       "True"
      ]
     },
     "execution_count": null,
     "metadata": {},
     "output_type": "execute_result"
    }
   ],
   "source": [
    "#hide\n",
    "from dotenv import load_dotenv\n",
    "load_dotenv(dotenv_path='/Users/vincent/Documents/envvars/cred.env')"
   ]
  },
  {
   "cell_type": "code",
   "execution_count": null,
   "metadata": {},
   "outputs": [],
   "source": [
    "#export\n",
    "import json"
   ]
  },
  {
   "cell_type": "code",
   "execution_count": null,
   "metadata": {},
   "outputs": [],
   "source": [
    "#export\n",
    "class DataRequests:\n",
    "    \"`Artemis API` Data Requests entity object\"\n",
    "    def __init__(self, client): \n",
    "        self.client = client\n",
    "        self.response = None\n",
    "    \n",
    "    def find(self, facility_id, data_request_id):\n",
    "        \"Retrieves a specific data request\"\n",
    "        self.response = self.client.get(f'/facilities/{facility_id}/data_requests/{data_request_id}')\n",
    "        return self.client.response_handler(self.response)\n",
    "    \n",
    "    def create(self, facility_id, attributes):\n",
    "        \"Creates a data request for a specific facility\"\n",
    "        data = {}\n",
    "        body = {}\n",
    "        data['type'] = \"data_requests\"\n",
    "        data['attributes'] = attributes\n",
    "        body['facility_id'] = facility_id\n",
    "        body['_jsonapi'] = {}\n",
    "        body['_jsonapi']['data'] = data\n",
    "        self.response = self.client.post(f'/facilities/{facility_id}/data_requests', json.dumps(body))\n",
    "        return self.client.response_handler(self.response, body)\n",
    "    \n",
    "    def update(self, data_request_id, facility_id, attributes):\n",
    "        \"Updates a specific data request\"\n",
    "        data = {}\n",
    "        body = {}\n",
    "        data['type'] = \"data_requests\"\n",
    "        data['attributes'] = attributes\n",
    "        body['facility_id'] = facility_id\n",
    "        body['id'] = data_request_id\n",
    "        body['_jsonapi'] = {}\n",
    "        body['_jsonapi']['data'] = data\n",
    "        self.response = self.client.put(f'/facilities/{facility_id}/data_requests/{data_request_id}', json.dumps(body))\n",
    "        return self.client.response_handler(self.response, body)\n",
    "        "
   ]
  },
  {
   "cell_type": "code",
   "execution_count": null,
   "metadata": {},
   "outputs": [
    {
     "data": {
      "text/markdown": [
       "<h4 id=\"DataRequests.create\" class=\"doc_header\"><code>DataRequests.create</code><a href=\"__main__.py#L13\" class=\"source_link\" style=\"float:right\">[source]</a></h4>\n",
       "\n",
       "> <code>DataRequests.create</code>(**`facility_id`**, **`attributes`**)\n",
       "\n",
       "Creates a data request for a specific facility"
      ],
      "text/plain": [
       "<IPython.core.display.Markdown object>"
      ]
     },
     "metadata": {},
     "output_type": "display_data"
    }
   ],
   "source": [
    "show_doc(DataRequests.create)"
   ]
  },
  {
   "cell_type": "code",
   "execution_count": null,
   "metadata": {},
   "outputs": [],
   "source": [
    "#hide\n",
    "client = APIClient(auth_code=\"your_auth_code\", automatic_refresh=False)"
   ]
  },
  {
   "cell_type": "code",
   "execution_count": null,
   "metadata": {},
   "outputs": [],
   "source": [
    "data_request = DataRequests(client)"
   ]
  },
  {
   "cell_type": "code",
   "execution_count": null,
   "metadata": {},
   "outputs": [
    {
     "data": {
      "text/plain": [
       "{'id': '5',\n",
       " 'type': 'data_requests',\n",
       " 'attributes': {'id': 5,\n",
       "  'start_date': '2021-04-26',\n",
       "  'end_date': '2021-04-26',\n",
       "  'request_status': 'completed',\n",
       "  'descriptor': 'sensor_data_ingestion_leafy-greens-farm_owner@artemisag.com_2021-04-26_2021-04-26',\n",
       "  'file_name': 'attached_data',\n",
       "  'content_type': None,\n",
       "  'options': None,\n",
       "  'messages': None,\n",
       "  'request_type': 'DataRequests::SensorDataIngestion',\n",
       "  'data_size': None,\n",
       "  'data_url': ''},\n",
       " 'relationships': {'facility': {'data': {'id': 1, 'type': 'facilities'}},\n",
       "  'user': {'data': {'id': 2, 'type': 'users'}}}}"
      ]
     },
     "execution_count": null,
     "metadata": {},
     "output_type": "execute_result"
    }
   ],
   "source": [
    "found_data_request = data_request.find(facility_id=1, data_request_id=5)\n",
    "found_data_request"
   ]
  },
  {
   "cell_type": "code",
   "execution_count": null,
   "metadata": {},
   "outputs": [
    {
     "data": {
      "text/plain": [
       "{'id': '7',\n",
       " 'type': 'data_requests',\n",
       " 'attributes': {'id': 7,\n",
       "  'start_date': '2021-04-26',\n",
       "  'end_date': '2021-04-26',\n",
       "  'request_status': 'processing',\n",
       "  'descriptor': 'sensor_data_ingestion_leafy-greens-farm_owner@artemisag.com_2021-04-26_2021-04-26',\n",
       "  'file_name': 'attached_data',\n",
       "  'content_type': None,\n",
       "  'options': None,\n",
       "  'messages': None,\n",
       "  'request_type': 'DataRequests::SensorDataIngestion',\n",
       "  'data_size': None,\n",
       "  'data_url': ''},\n",
       " 'relationships': {'facility': {'data': {'id': 1, 'type': 'facilities'}},\n",
       "  'user': {'data': {'id': 2, 'type': 'users'}}}}"
      ]
     },
     "execution_count": null,
     "metadata": {},
     "output_type": "execute_result"
    }
   ],
   "source": [
    "attributes = {\n",
    "    \"request_type\": \"DataRequests::SensorDataIngestion\",\n",
    "    \"request_status\": \"processing\",\n",
    "    \"start_date\":   '2021-04-26T14:00:00.000Z',\n",
    "    \"end_date\":     '2021-04-26T14:09:59.000Z'}\n",
    "created_data_request = data_request.create(facility_id=1, attributes=attributes)\n",
    "created_data_request"
   ]
  },
  {
   "cell_type": "code",
   "execution_count": null,
   "metadata": {},
   "outputs": [
    {
     "name": "stdout",
     "output_type": "stream",
     "text": [
      "Request Failed - 403: Forbidden\n"
     ]
    }
   ],
   "source": [
    "attributes = {\n",
    "    \"request_type\": \"DataRequests::SensorDataIngestion\",\n",
    "    \"request_status\": \"complete\",\n",
    "    \"attached_data_file_name\": \"test.csv\"}\n",
    "created_data_request = data_request.update(data_request_id=7, facility_id=1, attributes=attributes)\n",
    "created_data_request"
   ]
  },
  {
   "cell_type": "code",
   "execution_count": null,
   "metadata": {},
   "outputs": [],
   "source": []
  }
 ],
 "metadata": {
  "kernelspec": {
   "display_name": "Python [conda env:nbdev]",
   "language": "python",
   "name": "conda-env-nbdev-py"
  }
 },
 "nbformat": 4,
 "nbformat_minor": 4
}
