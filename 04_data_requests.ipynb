{
 "cells": [
  {
   "cell_type": "code",
   "execution_count": null,
   "metadata": {},
   "outputs": [],
   "source": [
    "# default_exp data_requests"
   ]
  },
  {
   "cell_type": "code",
   "execution_count": null,
   "metadata": {},
   "outputs": [],
   "source": [
    "#hide\n",
    "%load_ext autoreload\n",
    "%autoreload 2"
   ]
  },
  {
   "cell_type": "markdown",
   "metadata": {},
   "source": [
    "# Data Requests\n",
    "> Artemis Data Requests entity implementation to use the associated data requests API endpoints."
   ]
  },
  {
   "cell_type": "code",
   "execution_count": null,
   "metadata": {},
   "outputs": [],
   "source": [
    "#hide\n",
    "from nbdev.showdoc import *\n",
    "from artemis_api_python.client import *"
   ]
  },
  {
   "cell_type": "code",
   "execution_count": null,
   "metadata": {},
   "outputs": [
    {
     "data": {
      "text/plain": [
       "True"
      ]
     },
     "execution_count": null,
     "metadata": {},
     "output_type": "execute_result"
    }
   ],
   "source": [
    "#hide\n",
    "from dotenv import load_dotenv\n",
    "load_dotenv(dotenv_path='.env')"
   ]
  },
  {
   "cell_type": "code",
   "execution_count": null,
   "metadata": {},
   "outputs": [],
   "source": [
    "#export\n",
    "import json"
   ]
  },
  {
   "cell_type": "code",
   "execution_count": null,
   "metadata": {},
   "outputs": [],
   "source": [
    "#export\n",
    "class DataRequests:\n",
    "    \"`Artemis API` Data Requests entity object\"\n",
    "    def __init__(self, client): \n",
    "        self.client = client\n",
    "        self.response = None\n",
    "        \n",
    "    def create(self, facility_id, sensor_id, metric_id, attributes):\n",
    "        \"Creates a data request for a specific facility\"\n",
    "        data = {}\n",
    "        body = {}\n",
    "        data['type'] = \"data_requests\"\n",
    "        data['attributes'] = attributes\n",
    "        body['facility_id'] = facility_id\n",
    "        body['_jsonapi'] = {}\n",
    "        body['_jsonapi']['data'] = data\n",
    "        self.response = self.client.post(f'/facilities/{facility_id}/data_requests', json.dumps(body))\n",
    "        return self.client.response_handler(self.response, body)    "
   ]
  },
  {
   "cell_type": "code",
   "execution_count": null,
   "metadata": {},
   "outputs": [
    {
     "data": {
      "text/markdown": [
       "<h4 id=\"DataRequests.create\" class=\"doc_header\"><code>DataRequests.create</code><a href=\"__main__.py#L8\" class=\"source_link\" style=\"float:right\">[source]</a></h4>\n",
       "\n",
       "> <code>DataRequests.create</code>(**`facility_id`**, **`sensor_id`**, **`metric_id`**, **`attributes`**)\n",
       "\n",
       "Creates a data request for a specific facility"
      ],
      "text/plain": [
       "<IPython.core.display.Markdown object>"
      ]
     },
     "metadata": {},
     "output_type": "display_data"
    }
   ],
   "source": [
    "show_doc(DataRequests.create)"
   ]
  },
  {
   "cell_type": "code",
   "execution_count": null,
   "metadata": {},
   "outputs": [],
   "source": [
    "#hide\n",
    "client = APIClient(auth_code=\"YOUR_AUTHORIZATION_CODE\")"
   ]
  },
  {
   "cell_type": "markdown",
   "metadata": {},
   "source": [
    "Let's create a couple data points for `LMT1:CMP 1 PAR SENSOR sensor_id: 6` and it's `outside temp metric, metric_id: 76`"
   ]
  },
  {
   "cell_type": "code",
   "execution_count": null,
   "metadata": {},
   "outputs": [],
   "source": [
    "data_request = DataRequests(client)"
   ]
  },
  {
   "cell_type": "code",
   "execution_count": null,
   "metadata": {},
   "outputs": [
    {
     "data": {
      "text/plain": [
       "{'facility_id': 1,\n",
       " 'sensor_id': 6,\n",
       " 'metric_id': 76,\n",
       " '_jsonapi': {'data': {'type': 'sensor_data',\n",
       "   'attributes': {'points': [{'float_value': 20.7,\n",
       "      'recorded_at': '2021-02-23T12:16:00+00:00'},\n",
       "     {'float_value': 20.7, 'recorded_at': '2021-02-23T13:17:00+00:00'},\n",
       "     {'float_value': 20.8, 'recorded_at': '2021-02-23T14:18:00+00:00'},\n",
       "     {'float_value': 21.0, 'recorded_at': '2021-02-23T15:19:00+00:00'}]}}}}"
      ]
     },
     "execution_count": null,
     "metadata": {},
     "output_type": "execute_result"
    }
   ],
   "source": [
    "attributes = {\n",
    "    \"request_type\": \"DataRequests::SensorDataImport\",\n",
    "    \"request_status\": \"processing\"}\n",
    "created_data_request = data_request.create(facility_id=1, attributes=attributes)\n",
    "created_data_request"
   ]
  }
 ],
 "metadata": {
  "kernelspec": {
   "display_name": "Python [conda env:nbdev]",
   "language": "python",
   "name": "conda-env-nbdev-py"
  }
 },
 "nbformat": 4,
 "nbformat_minor": 4
}
